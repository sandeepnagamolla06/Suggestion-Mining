{
  "nbformat": 4,
  "nbformat_minor": 0,
  "metadata": {
    "colab": {
      "name": "CNNFastTextAttention.ipynb",
      "provenance": [],
      "collapsed_sections": []
    },
    "kernelspec": {
      "name": "python3",
      "display_name": "Python 3"
    },
    "accelerator": "GPU"
  },
  "cells": [
    {
      "cell_type": "code",
      "metadata": {
        "id": "JqHPJcFIpki9",
        "colab_type": "code",
        "colab": {}
      },
      "source": [
        "import pandas as pd\n",
        "import numpy as np\n",
        "\n",
        "# FOR PLOTTING GRAPHS\n",
        "import matplotlib.pyplot as plt\n",
        "pd.set_option('display.max_colwidth',300)\n",
        "\n",
        "# FOR CNN MODEL\n",
        "from tensorflow.keras.models import Model\n",
        "from tensorflow.keras.layers import Input, Embedding;\n",
        "from tensorflow.keras.layers import concatenate, Conv1D, GlobalMaxPooling1D\n",
        "from tensorflow.keras.layers import Dense, Dropout\n",
        "\n",
        "# FOR ATTENTION LAYER\n",
        "from tensorflow.keras.layers import Attention, Flatten,Activation,Permute,RepeatVector,Lambda,Multiply\n",
        "from tensorflow.keras.backend import sum as Ksum\n",
        "\n",
        "# FOR EVALUATION METRICS OF THE PREDICTIONS\n",
        "from sklearn.metrics import accuracy_score,f1_score"
      ],
      "execution_count": 0,
      "outputs": []
    },
    {
      "cell_type": "code",
      "metadata": {
        "id": "jaHw79oTp1dm",
        "colab_type": "code",
        "colab": {}
      },
      "source": [
        "# IMPORITING THE PARAMENTERS AND SEQUENCES \n",
        "import pickle\n",
        "\n",
        "variables = pickle.load(open('/content/drive/My Drive/tempData/variablesFastText126','rb'))\n",
        "\n",
        "test_sequence  = variables['test_sequence']\n",
        "valid_sequence  = variables['valid_sequence']\n",
        "train_sequence  = variables['train_sequence']\n",
        "\n",
        "y_train  = variables['y_train']\n",
        "y_test  = variables['y_test']\n",
        "y_valid  = variables['y_valid']\n",
        "\n",
        "MXSEQLEN  = variables['MXSEQLEN']\n",
        "EMBEDDING_DIM  = variables['EMBEDDING_DIM']\n",
        "train_embedding_weights  = variables['train_embedding_weights']\n",
        "train_word_index  = variables['train_word_index']"
      ],
      "execution_count": 0,
      "outputs": []
    },
    {
      "cell_type": "code",
      "metadata": {
        "id": "jJUCB0bUsUhg",
        "colab_type": "code",
        "colab": {}
      },
      "source": [
        "def CNN(embedding_weights,num_words):\n",
        "\n",
        "    embedding_layer = Embedding(\n",
        "        num_words,                  # VOCABULARY SIZE\n",
        "        EMBEDDING_DIM,              # ONE HOT ENCODING VECTOR SIZE\n",
        "        weights=[embedding_weights],# EMBEGGING WEIGHTS FROM THE GOOGLE NEW WORD VECTOR\n",
        "        input_length=MXSEQLEN,      # MAX LENGTH OF A SEQUENCE\n",
        "        trainable=False             # PARAMETERS WILL NOT BE TRAINED\n",
        "    )\n",
        "\n",
        "    sequence_input      =   Input(shape=(MXSEQLEN,), dtype='int32')\n",
        "    embedded_sequences  =   embedding_layer(sequence_input)\n",
        "\n",
        "    units=128\n",
        "    # CONVOLUTIONAL LAYER 1\n",
        "    conv_layer1 = Conv1D(units, 2, activation='relu')(embedded_sequences)        \n",
        "    conv_layer1 = GlobalMaxPooling1D()(conv_layer1)\n",
        "\n",
        "    # CONVOLUTIONAL LAYER 2\n",
        "    conv_layer2 = Conv1D(units, 3, activation='relu')(embedded_sequences)        \n",
        "    conv_layer2 = GlobalMaxPooling1D()(conv_layer2)\n",
        "\n",
        "    # CONCATENATION CONV LAYERS\n",
        "    next_layer = concatenate([conv_layer1,conv_layer2])\n",
        "\n",
        "    # ADDING ATTENTION\n",
        "    next_layer = Dense(units, activation='sigmoid')(next_layer)  \n",
        "\n",
        "    attention = Dense(1, activation='tanh')(next_layer)\n",
        "    attention = Flatten()(attention)\n",
        "    attention = Activation('softmax')(attention)\n",
        "    attention = RepeatVector(units)(attention)\n",
        "    attention = Permute([2, 1])(attention)\n",
        "\n",
        "    sent_representation = Multiply()([next_layer, attention])\n",
        "    sent_representation = Lambda(lambda xin: Ksum(xin, axis=-2), output_shape=(units,))(sent_representation)\n",
        "\n",
        "    next_layer = Dropout(0.6)(next_layer)                         \n",
        "    next_layer = Dense(64, activation='sigmoid')(next_layer)  \n",
        "\n",
        "    preds = Dense(1, activation='sigmoid')(next_layer)  \n",
        "\n",
        "    model = Model(sequence_input, preds)\n",
        "    model.compile(\n",
        "        loss='binary_crossentropy',\n",
        "        optimizer='adam',\n",
        "        metrics=['acc']\n",
        "    )\n",
        "    \n",
        "    model.summary()\n",
        "    return model"
      ],
      "execution_count": 0,
      "outputs": []
    },
    {
      "cell_type": "code",
      "metadata": {
        "id": "uBDGiZBQsWgk",
        "colab_type": "code",
        "outputId": "b4dc12ca-db74-4971-a3c8-2038a38297cf",
        "colab": {
          "base_uri": "https://localhost:8080/",
          "height": 533
        }
      },
      "source": [
        "# len= train_word_index +1 FOR 0 THAT WILL BE PADDED FOR COMPLETING THE SEQUENCE LENGTH\n",
        "cnn_model = CNN(train_embedding_weights, len(train_word_index)+1)  "
      ],
      "execution_count": 49,
      "outputs": [
        {
          "output_type": "stream",
          "text": [
            "Model: \"model_9\"\n",
            "__________________________________________________________________________________________________\n",
            "Layer (type)                    Output Shape         Param #     Connected to                     \n",
            "==================================================================================================\n",
            "input_10 (InputLayer)           [(None, 126)]        0                                            \n",
            "__________________________________________________________________________________________________\n",
            "embedding_9 (Embedding)         (None, 126, 300)     1146000     input_10[0][0]                   \n",
            "__________________________________________________________________________________________________\n",
            "conv1d_23 (Conv1D)              (None, 125, 128)     76928       embedding_9[0][0]                \n",
            "__________________________________________________________________________________________________\n",
            "conv1d_24 (Conv1D)              (None, 124, 128)     115328      embedding_9[0][0]                \n",
            "__________________________________________________________________________________________________\n",
            "global_max_pooling1d_23 (Global (None, 128)          0           conv1d_23[0][0]                  \n",
            "__________________________________________________________________________________________________\n",
            "global_max_pooling1d_24 (Global (None, 128)          0           conv1d_24[0][0]                  \n",
            "__________________________________________________________________________________________________\n",
            "concatenate_9 (Concatenate)     (None, 256)          0           global_max_pooling1d_23[0][0]    \n",
            "                                                                 global_max_pooling1d_24[0][0]    \n",
            "__________________________________________________________________________________________________\n",
            "dense_36 (Dense)                (None, 128)          32896       concatenate_9[0][0]              \n",
            "__________________________________________________________________________________________________\n",
            "dropout_9 (Dropout)             (None, 128)          0           dense_36[0][0]                   \n",
            "__________________________________________________________________________________________________\n",
            "dense_38 (Dense)                (None, 64)           8256        dropout_9[0][0]                  \n",
            "__________________________________________________________________________________________________\n",
            "dense_39 (Dense)                (None, 1)            65          dense_38[0][0]                   \n",
            "==================================================================================================\n",
            "Total params: 1,379,473\n",
            "Trainable params: 233,473\n",
            "Non-trainable params: 1,146,000\n",
            "__________________________________________________________________________________________________\n"
          ],
          "name": "stdout"
        }
      ]
    },
    {
      "cell_type": "code",
      "metadata": {
        "id": "gzLbgWlEsYS1",
        "colab_type": "code",
        "outputId": "e9506f08-fc9c-44f3-ca22-fb706ebfac12",
        "colab": {
          "base_uri": "https://localhost:8080/",
          "height": 183
        }
      },
      "source": [
        "# CONFIGURING AND TRAINING THE MODEL\n",
        "EPOCHS = 5\n",
        "BATCH_SIZE = 50\n",
        "\n",
        "history = cnn_model.fit(\n",
        "    train_sequence,       # THE INPUT SEQUENCES TO THE MODEL\n",
        "    y_train,              # TARGET OUTPUT\n",
        "    epochs=EPOCHS,    \n",
        "    validation_data=(valid_sequence, y_valid), \n",
        "    shuffle=True, \n",
        "    batch_size=BATCH_SIZE\n",
        ")"
      ],
      "execution_count": 50,
      "outputs": [
        {
          "output_type": "stream",
          "text": [
            "Epoch 1/5\n",
            "170/170 [==============================] - 1s 8ms/step - loss: 0.5035 - acc: 0.7660 - val_loss: 0.2299 - val_acc: 0.9076\n",
            "Epoch 2/5\n",
            "170/170 [==============================] - 1s 7ms/step - loss: 0.3083 - acc: 0.8740 - val_loss: 0.2161 - val_acc: 0.9028\n",
            "Epoch 3/5\n",
            "170/170 [==============================] - 1s 7ms/step - loss: 0.2537 - acc: 0.8952 - val_loss: 0.2152 - val_acc: 0.9052\n",
            "Epoch 4/5\n",
            "170/170 [==============================] - 1s 7ms/step - loss: 0.2019 - acc: 0.9252 - val_loss: 0.2339 - val_acc: 0.8956\n",
            "Epoch 5/5\n",
            "170/170 [==============================] - 1s 7ms/step - loss: 0.1565 - acc: 0.9447 - val_loss: 0.2725 - val_acc: 0.8932\n"
          ],
          "name": "stdout"
        }
      ]
    },
    {
      "cell_type": "code",
      "metadata": {
        "id": "cjWScq3hp9N-",
        "colab_type": "code",
        "colab": {}
      },
      "source": [
        "#####################################################################################\n",
        "########################## ANALYZING AND TWEAKING THE MODEL##########################\n",
        "#####################################################################################"
      ],
      "execution_count": 0,
      "outputs": []
    },
    {
      "cell_type": "code",
      "metadata": {
        "id": "DX0tXo8hp-vk",
        "colab_type": "code",
        "outputId": "3225e95e-34fe-4c70-e5a2-7d5db58d8f29",
        "colab": {
          "base_uri": "https://localhost:8080/",
          "height": 294
        }
      },
      "source": [
        "# TRAINING VS VALIDATION LOSS GRAPH\n",
        "plt.plot(history.history['loss'])\n",
        "plt.plot(history.history['val_loss'])\n",
        "plt.title('model train vs validation loss')\n",
        "plt.ylabel('loss')\n",
        "plt.xlabel('epoch')\n",
        "plt.legend(['train', 'validation'], loc='upper right')\n",
        "plt.show()"
      ],
      "execution_count": 51,
      "outputs": [
        {
          "output_type": "display_data",
          "data": {
            "image/png": "[encoded data removed]",
            "text/plain": [
              "<Figure size 432x288 with 1 Axes>"
            ]
          },
          "metadata": {
            "tags": []
          }
        }
      ]
    },
    {
      "cell_type": "code",
      "metadata": {
        "id": "f_6vTBPeqBZr",
        "colab_type": "code",
        "outputId": "73322fcc-d244-4498-ace9-fc8e5266f074",
        "colab": {
          "base_uri": "https://localhost:8080/",
          "height": 50
        }
      },
      "source": [
        "# EVLUATING THE ACCURACY\n",
        "predict=cnn_model.predict(test_sequence)\n",
        "predict=[int(x+0.5) for x in predict]\n",
        "accuracy = accuracy_score(y_test, predict)\n",
        "f1=f1_score(y_test,predict)\n",
        "print(\"F1 Score: %.2f%%\" % (f1* 100.0))\n",
        "print(\"Accuracy: %.2f%%\" % (accuracy * 100.0))"
      ],
      "execution_count": 52,
      "outputs": [
        {
          "output_type": "stream",
          "text": [
            "F1 Score: 79.79%\n",
            "Accuracy: 80.24%\n"
          ],
          "name": "stdout"
        }
      ]
    }
  ]
}