{
  "nbformat": 4,
  "nbformat_minor": 0,
  "metadata": {
    "colab": {
      "name": "Copy of RNNWord2VecAttention.ipynb",
      "provenance": [],
      "collapsed_sections": []
    },
    "kernelspec": {
      "name": "python3",
      "display_name": "Python 3"
    },
    "accelerator": "GPU"
  },
  "cells": [
    {
      "cell_type": "code",
      "metadata": {
        "id": "I1bRAQObXieR",
        "colab_type": "code",
        "colab": {}
      },
      "source": [
        "import pandas as pd\n",
        "import numpy as np\n",
        "\n",
        "# FOR PLOTTING GRAPHS\n",
        "import matplotlib.pyplot as plt\n",
        "pd.set_option('display.max_colwidth',300)\n",
        "\n",
        "# LIBRARIES FOR THE RNN CLASSIFIER\n",
        "from tensorflow.keras.preprocessing import sequence\n",
        "from tensorflow.keras.models import Model\n",
        "from tensorflow.keras.layers import Input, Embedding, Dense, Dropout, LSTM,Attention,Flatten,Activation,Permute,RepeatVector,Lambda,Multiply\n",
        "from tensorflow.keras.preprocessing.text import Tokenizer\n",
        "from tensorflow.keras.backend import sum as Ksum\n",
        "\n",
        "# FOR EVALUATION METRICS OF THE PREDICTIONS\n",
        "from sklearn.metrics import accuracy_score,f1_score"
      ],
      "execution_count": 0,
      "outputs": []
    },
    {
      "cell_type": "code",
      "metadata": {
        "id": "1GlB0IhqX2JM",
        "colab_type": "code",
        "colab": {}
      },
      "source": [
        "# IMPORITING THE PARAMENTERS AND SEQUENCES \n",
        "import pickle\n",
        "\n",
        "variables = pickle.load(open('./drive/My Drive/tempData/variablesword2Vec126','rb'))\n",
        "\n",
        "test_sequence  = variables['test_sequence']\n",
        "valid_sequence  = variables['valid_sequence']\n",
        "train_sequence  = variables['train_sequence']\n",
        "\n",
        "y_train  = variables['y_train']\n",
        "y_test  = variables['y_test']\n",
        "y_valid  = variables['y_valid']\n",
        "\n",
        "MXSEQLEN  = variables['MXSEQLEN']\n",
        "EMBEDDING_DIM  = variables['EMBEDDING_DIM']\n",
        "train_embedding_weights  = variables['train_embedding_weights']\n",
        "train_word_index  = variables['train_word_index']"
      ],
      "execution_count": 0,
      "outputs": []
    },
    {
      "cell_type": "code",
      "metadata": {
        "id": "5NR-hgBPZS5d",
        "colab_type": "code",
        "colab": {}
      },
      "source": [
        "#####################################################################################\n",
        "########################## BUILDING AND TRAINING THE MODEL ##########################\n",
        "#####################################################################################\n",
        "\n",
        "def RNN(embedding_weights,num_words):\n",
        "    \n",
        "    # THE INPUT LAYER\n",
        "    sequence_input      =   Input(shape=(MXSEQLEN,), dtype='int32')\n",
        "    \n",
        "    # THE EMBEDDING LAYER OF EMBEDDING_WEIGHTS     \n",
        "    embedding_layer = Embedding(\n",
        "        num_words,                  # VOCABULARY SIZE\n",
        "        EMBEDDING_DIM,              # ONE HOT ENCODING VECTOR SIZE\n",
        "        weights=[embedding_weights],# EMBEGGING WEIGHTS FROM THE GOOGLE NEW WORD VECTOR\n",
        "        input_length=MXSEQLEN,      # MAX LENGTH OF A SEQUENCE\n",
        "        trainable=False             # PARAMETERS WILL NOT BE TRAINED\n",
        "    )\n",
        "    \n",
        "    # THE EMBEDDING SEQUENCES FROM THE EMBEDDING LAYER \n",
        "    embedded_sequences  =   embedding_layer(sequence_input)\n",
        "\n",
        "    # ADDING ONE LSTM LAYER OF 256 NODES\n",
        "    units=128\n",
        "\n",
        "    lstm_layer = LSTM(units)(embedded_sequences)                    \n",
        "    attention = Dense(1, activation='tanh')(lstm_layer)\n",
        "    attention = Flatten()(attention)\n",
        "    attention = Activation('softmax')(attention)\n",
        "    attention = RepeatVector(units)(attention)\n",
        "    attention = Permute([2, 1])(attention)\n",
        "\n",
        "    sent_representation = Multiply()([lstm_layer, attention])\n",
        "    sent_representation = Lambda(lambda xin: Ksum(xin, axis=-2), output_shape=(units,))(sent_representation)\n",
        "\n",
        "    # DENSE NEURON LAYER\n",
        "    next_layer = Dense(units, activation='relu')(sent_representation)        \n",
        "    next_layer = Dropout(0.4)(next_layer)\n",
        "    next_layer = Dense(64, activation='relu')(next_layer)        \n",
        "    # FEW DROPOUTS FOR AVOIDING OVERFIT\n",
        "\n",
        "    # FINAL DENSE LAYER\n",
        "    preds = Dense(1, activation='sigmoid')(next_layer)  \n",
        "\n",
        "    model = Model(sequence_input, preds)\n",
        "    model.compile(\n",
        "        loss='binary_crossentropy',\n",
        "        optimizer='adam',\n",
        "        metrics=['acc']\n",
        "    )\n",
        "    \n",
        "    model.summary()\n",
        "    return model"
      ],
      "execution_count": 0,
      "outputs": []
    },
    {
      "cell_type": "code",
      "metadata": {
        "id": "Y9XvkZCUX67g",
        "colab_type": "code",
        "outputId": "9f6d7c4f-bb84-4630-c90c-e81108f19079",
        "colab": {
          "base_uri": "https://localhost:8080/",
          "height": 650
        }
      },
      "source": [
        "print(train_embedding_weights.shape)\n",
        "rnn_model = RNN(train_embedding_weights, len(train_word_index)+1)  "
      ],
      "execution_count": 32,
      "outputs": [
        {
          "output_type": "stream",
          "text": [
            "(3820, 300)\n",
            "Model: \"model_6\"\n",
            "__________________________________________________________________________________________________\n",
            "Layer (type)                    Output Shape         Param #     Connected to                     \n",
            "==================================================================================================\n",
            "input_7 (InputLayer)            [(None, 126)]        0                                            \n",
            "__________________________________________________________________________________________________\n",
            "embedding_6 (Embedding)         (None, 126, 300)     1146000     input_7[0][0]                    \n",
            "__________________________________________________________________________________________________\n",
            "lstm_6 (LSTM)                   (None, 128)          219648      embedding_6[0][0]                \n",
            "__________________________________________________________________________________________________\n",
            "dense_24 (Dense)                (None, 1)            129         lstm_6[0][0]                     \n",
            "__________________________________________________________________________________________________\n",
            "flatten_6 (Flatten)             (None, 1)            0           dense_24[0][0]                   \n",
            "__________________________________________________________________________________________________\n",
            "activation_6 (Activation)       (None, 1)            0           flatten_6[0][0]                  \n",
            "__________________________________________________________________________________________________\n",
            "repeat_vector_6 (RepeatVector)  (None, 128, 1)       0           activation_6[0][0]               \n",
            "__________________________________________________________________________________________________\n",
            "permute_6 (Permute)             (None, 1, 128)       0           repeat_vector_6[0][0]            \n",
            "__________________________________________________________________________________________________\n",
            "multiply_6 (Multiply)           (None, 1, 128)       0           lstm_6[0][0]                     \n",
            "                                                                 permute_6[0][0]                  \n",
            "__________________________________________________________________________________________________\n",
            "lambda_6 (Lambda)               (None, 128)          0           multiply_6[0][0]                 \n",
            "__________________________________________________________________________________________________\n",
            "dense_25 (Dense)                (None, 128)          16512       lambda_6[0][0]                   \n",
            "__________________________________________________________________________________________________\n",
            "dropout_6 (Dropout)             (None, 128)          0           dense_25[0][0]                   \n",
            "__________________________________________________________________________________________________\n",
            "dense_26 (Dense)                (None, 64)           8256        dropout_6[0][0]                  \n",
            "__________________________________________________________________________________________________\n",
            "dense_27 (Dense)                (None, 1)            65          dense_26[0][0]                   \n",
            "==================================================================================================\n",
            "Total params: 1,390,610\n",
            "Trainable params: 244,610\n",
            "Non-trainable params: 1,146,000\n",
            "__________________________________________________________________________________________________\n"
          ],
          "name": "stdout"
        }
      ]
    },
    {
      "cell_type": "code",
      "metadata": {
        "id": "SlWw-bWwX8SQ",
        "colab_type": "code",
        "outputId": "966d87cb-3c70-41fc-ad2c-24b1c1a022cb",
        "colab": {
          "base_uri": "https://localhost:8080/",
          "height": 350
        }
      },
      "source": [
        "# CONFIGURING AND TRAINING THE MODEL\n",
        "EPOCHS = 10\n",
        "BATCH_SIZE = 30\n",
        "\n",
        "history = rnn_model.fit(\n",
        "    train_sequence,       # THE INPUT SEQUENCES TO THE MODEL\n",
        "    y_train,              # TARGET OUTPUT\n",
        "    epochs=EPOCHS,    \n",
        "    validation_data=(valid_sequence, y_valid), \n",
        "    shuffle=True, \n",
        "    batch_size=BATCH_SIZE\n",
        ")"
      ],
      "execution_count": 33,
      "outputs": [
        {
          "output_type": "stream",
          "text": [
            "Epoch 1/10\n",
            "284/284 [==============================] - 4s 15ms/step - loss: 0.5329 - acc: 0.7541 - val_loss: 0.3841 - val_acc: 0.8956\n",
            "Epoch 2/10\n",
            "284/284 [==============================] - 4s 13ms/step - loss: 0.4563 - acc: 0.7961 - val_loss: 0.2777 - val_acc: 0.8812\n",
            "Epoch 3/10\n",
            "284/284 [==============================] - 4s 13ms/step - loss: 0.3482 - acc: 0.8459 - val_loss: 0.2052 - val_acc: 0.9184\n",
            "Epoch 4/10\n",
            "284/284 [==============================] - 4s 13ms/step - loss: 0.3150 - acc: 0.8665 - val_loss: 0.2631 - val_acc: 0.8896\n",
            "Epoch 5/10\n",
            "284/284 [==============================] - 4s 13ms/step - loss: 0.2989 - acc: 0.8753 - val_loss: 0.2071 - val_acc: 0.9112\n",
            "Epoch 6/10\n",
            "284/284 [==============================] - 4s 13ms/step - loss: 0.2757 - acc: 0.8813 - val_loss: 0.2012 - val_acc: 0.9292\n",
            "Epoch 7/10\n",
            "284/284 [==============================] - 4s 13ms/step - loss: 0.2519 - acc: 0.8954 - val_loss: 0.2352 - val_acc: 0.8896\n",
            "Epoch 8/10\n",
            "284/284 [==============================] - 4s 13ms/step - loss: 0.2325 - acc: 0.9041 - val_loss: 0.2154 - val_acc: 0.9136\n",
            "Epoch 9/10\n",
            "284/284 [==============================] - 4s 13ms/step - loss: 0.2130 - acc: 0.9104 - val_loss: 0.2199 - val_acc: 0.9052\n",
            "Epoch 10/10\n",
            "284/284 [==============================] - 4s 13ms/step - loss: 0.1866 - acc: 0.9248 - val_loss: 0.2386 - val_acc: 0.9100\n"
          ],
          "name": "stdout"
        }
      ]
    },
    {
      "cell_type": "code",
      "metadata": {
        "id": "HYxXy90gX9wx",
        "colab_type": "code",
        "outputId": "e5aea205-2751-474e-94cf-a86d0fb20351",
        "colab": {
          "base_uri": "https://localhost:8080/",
          "height": 294
        }
      },
      "source": [
        "# TRAINING VS VALIDATION LOSS GRAPH\n",
        "plt.plot(history.history['loss'])\n",
        "plt.plot(history.history['val_loss'])\n",
        "plt.title('model train vs validation loss')\n",
        "plt.ylabel('loss')\n",
        "plt.xlabel('epoch')\n",
        "plt.legend(['train', 'validation'], loc='upper right')\n",
        "plt.show()"
      ],
      "execution_count": 34,
      "outputs": [
        {
          "output_type": "display_data",
          "data": {
            "image/png": "[encoded data removed]",
            "text/plain": [
              "<Figure size 432x288 with 1 Axes>"
            ]
          },
          "metadata": {
            "tags": []
          }
        }
      ]
    },
    {
      "cell_type": "code",
      "metadata": {
        "id": "lGqMGd9mYFL9",
        "colab_type": "code",
        "outputId": "d89ef165-a58f-4002-a410-68bf198e3262",
        "colab": {
          "base_uri": "https://localhost:8080/",
          "height": 50
        }
      },
      "source": [
        "predict=rnn_model.predict(test_sequence)\n",
        "predict=[int(x+0.5) for x in predict]\n",
        "# EVLUATING THE ACCURACY\n",
        "accuracy = accuracy_score(y_test, predict)\n",
        "f1=f1_score(y_test,predict)\n",
        "print(\"F1 Score: %.2f%%\" % (f1* 100.0))\n",
        "print(\"Accuracy: %.2f%%\" % (accuracy * 100.0))"
      ],
      "execution_count": 35,
      "outputs": [
        {
          "output_type": "stream",
          "text": [
            "F1 Score: 73.21%\n",
            "Accuracy: 76.01%\n"
          ],
          "name": "stdout"
        }
      ]
    }
  ]
}