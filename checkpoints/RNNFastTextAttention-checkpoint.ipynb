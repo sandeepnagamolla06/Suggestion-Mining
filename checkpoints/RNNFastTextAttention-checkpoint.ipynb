{
 "cells": [
  {
   "cell_type": "code",
   "execution_count": 0,
   "metadata": {
    "colab": {},
    "colab_type": "code",
    "id": "I1bRAQObXieR"
   },
   "outputs": [],
   "source": [
    "import pandas as pd\n",
    "import numpy as np\n",
    "\n",
    "# FOR PLOTTING GRAPHS\n",
    "import matplotlib.pyplot as plt\n",
    "pd.set_option('display.max_colwidth',300)\n",
    "\n",
    "# LIBRARIES FOR THE RNN CLASSIFIER\n",
    "from tensorflow.keras.preprocessing import sequence\n",
    "from tensorflow.keras.models import Model\n",
    "from tensorflow.keras.layers import Input, Embedding, Dense, Dropout, LSTM,Attention,Flatten,Activation,Permute,RepeatVector,Lambda,Multiply\n",
    "from tensorflow.keras.preprocessing.text import Tokenizer\n",
    "from tensorflow.keras.backend import sum as Ksum\n",
    "\n",
    "# FOR EVALUATION METRICS OF THE PREDICTIONS\n",
    "from sklearn.metrics import accuracy_score,f1_score"
   ]
  },
  {
   "cell_type": "code",
   "execution_count": 0,
   "metadata": {
    "colab": {},
    "colab_type": "code",
    "id": "1GlB0IhqX2JM"
   },
   "outputs": [],
   "source": [
    "# IMPORITING THE PARAMENTERS AND SEQUENCES \n",
    "import pickle\n",
    "\n",
    "variables = pickle.load(open('./Data/variablesFastText','rb'))\n",
    "\n",
    "test_sequence  = variables['test_sequence']\n",
    "valid_sequence  = variables['valid_sequence']\n",
    "train_sequence  = variables['train_sequence']\n",
    "\n",
    "y_train  = variables['y_train']\n",
    "y_test  = variables['y_test']\n",
    "y_valid  = variables['y_valid']\n",
    "\n",
    "MXSEQLEN  = variables['MXSEQLEN']\n",
    "EMBEDDING_DIM  = variables['EMBEDDING_DIM']\n",
    "train_embedding_weights  = variables['train_embedding_weights']\n",
    "train_word_index  = variables['train_word_index']"
   ]
  },
  {
   "cell_type": "code",
   "execution_count": 1,
   "metadata": {
    "colab": {},
    "colab_type": "code",
    "id": "5NR-hgBPZS5d"
   },
   "outputs": [],
   "source": [
    "#####################################################################################\n",
    "########################## BUILDING AND TRAINING THE MODEL ##########################\n",
    "#####################################################################################\n",
    "\n",
    "def RNN(embedding_weights,num_words):\n",
    "    \n",
    "    # THE INPUT LAYER\n",
    "    sequence_input      =   Input(shape=(MXSEQLEN,), dtype='int32')\n",
    "    \n",
    "    # THE EMBEDDING LAYER OF EMBEDDING_WEIGHTS     \n",
    "    embedding_layer = Embedding(\n",
    "        num_words,                  # VOCABULARY SIZE\n",
    "        EMBEDDING_DIM,              # ONE HOT ENCODING VECTOR SIZE\n",
    "        weights=[embedding_weights],# EMBEGGING WEIGHTS FROM THE GOOGLE NEW WORD VECTOR\n",
    "        input_length=MXSEQLEN,      # MAX LENGTH OF A SEQUENCE\n",
    "        trainable=False             # PARAMETERS WILL NOT BE TRAINED\n",
    "    )\n",
    "    \n",
    "    # THE EMBEDDING SEQUENCES FROM THE EMBEDDING LAYER \n",
    "    embedded_sequences  =   embedding_layer(sequence_input)\n",
    "\n",
    "    # ADDING ONE LSTM LAYER OF 256 NODES\n",
    "    lstm_layer = LSTM(256)(embedded_sequences)   \n",
    "    \n",
    "    #ADDING ATTENTION LAYER\n",
    "    units=256\n",
    "    attention = Dense(1, activation='tanh')(lstm_layer)\n",
    "    attention = Flatten()(attention)\n",
    "    attention = Activation('softmax')(attention)\n",
    "    attention = RepeatVector(units)(attention)\n",
    "    attention = Permute([2, 1])(attention)\n",
    "\n",
    "\n",
    "    sent_representation = Multiply()([lstm_layer, attention])\n",
    "    sent_representation = Lambda(lambda xin: Ksum(xin, axis=-2), output_shape=(units,))(sent_representation)\n",
    "\n",
    "\n",
    "    # DENSE NEURON LAYER\n",
    "    next_layer = Dense(128, activation='relu')(sent_representation)        \n",
    "    \n",
    "    # FEW DROPOUTS FOR AVOIDING OVERFIT\n",
    "    next_layer = Dropout(0.4)(next_layer)                         \n",
    "\n",
    "    # FINAL DENSE LAYER\n",
    "    preds = Dense(1, activation='sigmoid')(next_layer)  \n",
    "\n",
    "    model = Model(sequence_input, preds)\n",
    "    model.compile(\n",
    "        loss='binary_crossentropy',\n",
    "        optimizer='adam',\n",
    "        metrics=['acc']\n",
    "    )\n",
    "    \n",
    "    model.summary()\n",
    "    return model"
   ]
  },
  {
   "cell_type": "code",
   "execution_count": 0,
   "metadata": {
    "colab": {
     "base_uri": "https://localhost:8080/",
     "height": 629
    },
    "colab_type": "code",
    "executionInfo": {
     "elapsed": 1387,
     "status": "ok",
     "timestamp": 1585907896299,
     "user": {
      "displayName": "Shubham Kumar - 2K17 CO 337",
      "photoUrl": "",
      "userId": "00291835080507765651"
     },
     "user_tz": -330
    },
    "id": "Y9XvkZCUX67g",
    "outputId": "399d5736-0149-485f-9bb9-d3f0254dc3cb"
   },
   "outputs": [
    {
     "name": "stdout",
     "output_type": "stream",
     "text": [
      "(3819, 300)\n",
      "Model: \"model_1\"\n",
      "__________________________________________________________________________________________________\n",
      "Layer (type)                    Output Shape         Param #     Connected to                     \n",
      "==================================================================================================\n",
      "input_2 (InputLayer)            [(None, 80)]         0                                            \n",
      "__________________________________________________________________________________________________\n",
      "embedding_1 (Embedding)         (None, 80, 300)      1145700     input_2[0][0]                    \n",
      "__________________________________________________________________________________________________\n",
      "lstm_1 (LSTM)                   (None, 256)          570368      embedding_1[0][0]                \n",
      "__________________________________________________________________________________________________\n",
      "dense_3 (Dense)                 (None, 1)            257         lstm_1[0][0]                     \n",
      "__________________________________________________________________________________________________\n",
      "flatten_1 (Flatten)             (None, 1)            0           dense_3[0][0]                    \n",
      "__________________________________________________________________________________________________\n",
      "activation_1 (Activation)       (None, 1)            0           flatten_1[0][0]                  \n",
      "__________________________________________________________________________________________________\n",
      "repeat_vector_1 (RepeatVector)  (None, 256, 1)       0           activation_1[0][0]               \n",
      "__________________________________________________________________________________________________\n",
      "permute_1 (Permute)             (None, 1, 256)       0           repeat_vector_1[0][0]            \n",
      "__________________________________________________________________________________________________\n",
      "multiply_1 (Multiply)           (None, 1, 256)       0           lstm_1[0][0]                     \n",
      "                                                                 permute_1[0][0]                  \n",
      "__________________________________________________________________________________________________\n",
      "lambda_1 (Lambda)               (None, 256)          0           multiply_1[0][0]                 \n",
      "__________________________________________________________________________________________________\n",
      "dense_4 (Dense)                 (None, 128)          32896       lambda_1[0][0]                   \n",
      "__________________________________________________________________________________________________\n",
      "dropout_1 (Dropout)             (None, 128)          0           dense_4[0][0]                    \n",
      "__________________________________________________________________________________________________\n",
      "dense_5 (Dense)                 (None, 1)            129         dropout_1[0][0]                  \n",
      "==================================================================================================\n",
      "Total params: 1,749,350\n",
      "Trainable params: 603,650\n",
      "Non-trainable params: 1,145,700\n",
      "__________________________________________________________________________________________________\n"
     ]
    }
   ],
   "source": [
    "# len= train_word_index +1 FOR 0 THAT WILL BE PADDED FOR COMPLETING THE SEQUENCE LENGTH\n",
    "print(train_embedding_weights.shape)\n",
    "rnn_model = RNN(train_embedding_weights, len(train_word_index)+1)  "
   ]
  },
  {
   "cell_type": "code",
   "execution_count": 0,
   "metadata": {
    "colab": {
     "base_uri": "https://localhost:8080/",
     "height": 357
    },
    "colab_type": "code",
    "executionInfo": {
     "elapsed": 720404,
     "status": "ok",
     "timestamp": 1585908620197,
     "user": {
      "displayName": "Shubham Kumar - 2K17 CO 337",
      "photoUrl": "",
      "userId": "00291835080507765651"
     },
     "user_tz": -330
    },
    "id": "SlWw-bWwX8SQ",
    "outputId": "0e4bb166-30a2-4f39-d951-f3799159949b"
   },
   "outputs": [
    {
     "name": "stdout",
     "output_type": "stream",
     "text": [
      "Epoch 1/10\n",
      "170/170 [==============================] - 71s 415ms/step - loss: 0.4632 - acc: 0.7987 - val_loss: 0.2247 - val_acc: 0.9208\n",
      "Epoch 2/10\n",
      "170/170 [==============================] - 71s 417ms/step - loss: 0.3525 - acc: 0.8527 - val_loss: 0.1993 - val_acc: 0.9268\n",
      "Epoch 3/10\n",
      "170/170 [==============================] - 71s 419ms/step - loss: 0.3144 - acc: 0.8668 - val_loss: 0.2260 - val_acc: 0.9076\n",
      "Epoch 4/10\n",
      "170/170 [==============================] - 72s 422ms/step - loss: 0.2988 - acc: 0.8759 - val_loss: 0.2019 - val_acc: 0.9304\n",
      "Epoch 5/10\n",
      "170/170 [==============================] - 72s 421ms/step - loss: 0.2765 - acc: 0.8854 - val_loss: 0.2165 - val_acc: 0.9064\n",
      "Epoch 6/10\n",
      "170/170 [==============================] - 71s 419ms/step - loss: 0.2565 - acc: 0.8916 - val_loss: 0.2697 - val_acc: 0.8727\n",
      "Epoch 7/10\n",
      "170/170 [==============================] - 72s 421ms/step - loss: 0.2355 - acc: 0.9013 - val_loss: 0.2347 - val_acc: 0.8956\n",
      "Epoch 8/10\n",
      "170/170 [==============================] - 72s 422ms/step - loss: 0.2109 - acc: 0.9135 - val_loss: 0.2114 - val_acc: 0.9088\n",
      "Epoch 9/10\n",
      "170/170 [==============================] - 72s 424ms/step - loss: 0.1838 - acc: 0.9253 - val_loss: 0.2232 - val_acc: 0.9124\n",
      "Epoch 10/10\n",
      "170/170 [==============================] - 71s 419ms/step - loss: 0.1636 - acc: 0.9316 - val_loss: 0.2873 - val_acc: 0.8824\n"
     ]
    }
   ],
   "source": [
    "# CONFIGURING AND TRAINING THE MODEL\n",
    "EPOCHS = 10\n",
    "BATCH_SIZE = 50\n",
    "\n",
    "history = rnn_model.fit(\n",
    "    train_sequence,       # THE INPUT SEQUENCES TO THE MODEL\n",
    "    y_train,              # TARGET OUTPUT\n",
    "    epochs=EPOCHS,    \n",
    "    validation_data=(valid_sequence, y_valid), \n",
    "    shuffle=True, \n",
    "    batch_size=BATCH_SIZE\n",
    ")"
   ]
  },
  {
   "cell_type": "code",
   "execution_count": 0,
   "metadata": {
    "colab": {
     "base_uri": "https://localhost:8080/",
     "height": 295
    },
    "colab_type": "code",
    "executionInfo": {
     "elapsed": 1450,
     "status": "ok",
     "timestamp": 1585908718225,
     "user": {
      "displayName": "Shubham Kumar - 2K17 CO 337",
      "photoUrl": "",
      "userId": "00291835080507765651"
     },
     "user_tz": -330
    },
    "id": "HYxXy90gX9wx",
    "outputId": "795f11ef-914e-4390-db8f-7e61e5a0f10d"
   },
   "outputs": [
    {
     "data": {
      "image/png": "[encoded data removed]",
      "text/plain": [
       "<Figure size 432x288 with 1 Axes>"
      ]
     },
     "metadata": {
      "tags": []
     },
     "output_type": "display_data"
    }
   ],
   "source": [
    "# TRAINING VS VALIDATION LOSS GRAPH\n",
    "plt.plot(history.history['loss'])\n",
    "plt.plot(history.history['val_loss'])\n",
    "plt.title('model train vs validation loss')\n",
    "plt.ylabel('loss')\n",
    "plt.xlabel('epoch')\n",
    "plt.legend(['train', 'validation'], loc='upper right')\n",
    "plt.show()"
   ]
  },
  {
   "cell_type": "code",
   "execution_count": 0,
   "metadata": {
    "colab": {},
    "colab_type": "code",
    "id": "oc0wZECOYCx4"
   },
   "outputs": [],
   "source": [
    "predict=rnn_model.predict(test_sequence)\n",
    "predict=[int(x+0.5) for x in predict]"
   ]
  },
  {
   "cell_type": "code",
   "execution_count": 0,
   "metadata": {
    "colab": {
     "base_uri": "https://localhost:8080/",
     "height": 51
    },
    "colab_type": "code",
    "executionInfo": {
     "elapsed": 2909,
     "status": "ok",
     "timestamp": 1585908763347,
     "user": {
      "displayName": "Shubham Kumar - 2K17 CO 337",
      "photoUrl": "",
      "userId": "00291835080507765651"
     },
     "user_tz": -330
    },
    "id": "lGqMGd9mYFL9",
    "outputId": "9480b6ff-94c4-425c-83bb-e3e695af982c"
   },
   "outputs": [
    {
     "name": "stdout",
     "output_type": "stream",
     "text": [
      "F1 Score: 79.40%\n",
      "Accuracy: 79.22%\n"
     ]
    }
   ],
   "source": [
    "# EVLUATING THE ACCURACY\n",
    "accuracy = accuracy_score(y_test, predict)\n",
    "f1=f1_score(y_test,predict)\n",
    "print(\"F1 Score: %.2f%%\" % (f1* 100.0))\n",
    "print(\"Accuracy: %.2f%%\" % (accuracy * 100.0))"
   ]
  }
 ],
 "metadata": {
  "colab": {
   "authorship_tag": "ABX9TyPtTsaw3xVP7PkkomViBusb",
   "collapsed_sections": [],
   "name": "RNNFastTextAttention.ipynb",
   "provenance": []
  },
  "kernelspec": {
   "display_name": "Python 3",
   "language": "python",
   "name": "python3"
  },
  "language_info": {
   "codemirror_mode": {
    "name": "ipython",
    "version": 3
   },
   "file_extension": ".py",
   "mimetype": "text/x-python",
   "name": "python",
   "nbconvert_exporter": "python",
   "pygments_lexer": "ipython3",
   "version": "3.7.4"
  }
 },
 "nbformat": 4,
 "nbformat_minor": 1
}
