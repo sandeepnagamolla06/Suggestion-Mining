{
 "cells": [
  {
   "cell_type": "code",
   "execution_count": 1,
   "metadata": {},
   "outputs": [],
   "source": [
    "from xgboost import XGBClassifier\n",
    "import pandas as pd\n",
    "import numpy as np\n",
    "from sklearn.metrics import f1_score,accuracy_score"
   ]
  },
  {
   "cell_type": "code",
   "execution_count": 2,
   "metadata": {},
   "outputs": [],
   "source": [
    "train_data=pd.read_csv(\"./Data/TrainingData.csv\")\n",
    "test_data=pd.read_csv(\"./Data/SubtaskA_Trial_Test_Labeled.csv\")\n",
    "valid_data=pd.read_csv(\"./Data/SubtaskA_EvaluationData_labeled.csv\")\n",
    "combined=pd.read_csv('./Data/CleanData.csv')\n",
    "w2v_x=pd.read_csv(\"./Data/Combined_x_w2v.csv\")"
   ]
  },
  {
   "cell_type": "code",
   "execution_count": 3,
   "metadata": {},
   "outputs": [
    {
     "name": "stdout",
     "output_type": "stream",
     "text": [
      "train (8500, 3)\n",
      "test (592, 3)\n",
      "valid (833, 3)\n",
      "combined_x (9925, 301)\n"
     ]
    }
   ],
   "source": [
    "print('train', train_data.shape)\n",
    "print('test', test_data.shape)\n",
    "print('valid', valid_data.shape)\n",
    "print('combined_x', w2v_x.shape)"
   ]
  },
  {
   "cell_type": "code",
   "execution_count": 4,
   "metadata": {},
   "outputs": [
    {
     "name": "stdout",
     "output_type": "stream",
     "text": [
      "(8500, 301)\n",
      "(592, 301)\n",
      "(833, 301)\n"
     ]
    }
   ],
   "source": [
    "x_train=w2v_x[:8500]\n",
    "print(x_train.shape)\n",
    "x_test=w2v_x[8500:8500+592]\n",
    "print(x_test.shape)\n",
    "x_valid=w2v_x[8500+592:]\n",
    "print(x_valid.shape)"
   ]
  },
  {
   "cell_type": "code",
   "execution_count": 14,
   "metadata": {},
   "outputs": [
    {
     "name": "stdout",
     "output_type": "stream",
     "text": [
      "\"Please enable removing language code from the Dev Center \"language history\" For example if you ever selected \"ru\" and \"ru-ru\" laguages and you published this xap to the Store then it causes Tile localization to show the en-us(default) tile localization which is bad.\"\n",
      "pleas enabl remov languag code from center languag histori exampl ever select laguag publish thi store then caus tile local show default tile local which\n"
     ]
    }
   ],
   "source": [
    "print(train_data['sentence'][0])\n",
    "print(combined['clean'][0])"
   ]
  },
  {
   "cell_type": "code",
   "execution_count": 5,
   "metadata": {},
   "outputs": [
    {
     "name": "stdout",
     "output_type": "stream",
     "text": [
      "I'm not asking Microsoft to Gives permission like Android so any app can take my data, but don't keep it restricted like iPhone.\n",
      "ask microsoft give permiss like android take data keep restrict like iphon\n"
     ]
    }
   ],
   "source": [
    "print(test_data['sentence'][0])\n",
    "print(combined['clean'][8500])"
   ]
  },
  {
   "cell_type": "code",
   "execution_count": 6,
   "metadata": {},
   "outputs": [
    {
     "name": "stdout",
     "output_type": "stream",
     "text": [
      "This would enable live traffic aware apps.\n",
      "thi would enabl live traffic awar app\n"
     ]
    }
   ],
   "source": [
    "print(valid_data['sentence'][0])\n",
    "print(combined['clean'][8500+592])"
   ]
  },
  {
   "cell_type": "code",
   "execution_count": 7,
   "metadata": {},
   "outputs": [
    {
     "name": "stdout",
     "output_type": "stream",
     "text": [
      "(8500, 301) (8500,)\n",
      "(592, 301) (592,)\n"
     ]
    }
   ],
   "source": [
    "y_train=train_data['label']\n",
    "y_valid=valid_data['label']\n",
    "y_test=test_data['label']\n",
    "print(x_train.shape,y_train.shape)\n",
    "print(x_test.shape,y_test.shape)"
   ]
  },
  {
   "cell_type": "code",
   "execution_count": 8,
   "metadata": {},
   "outputs": [
    {
     "name": "stdout",
     "output_type": "stream",
     "text": [
      "0     0\n",
      "1     1\n",
      "2     1\n",
      "3     1\n",
      "4     1\n",
      "     ..\n",
      "95    0\n",
      "96    0\n",
      "97    0\n",
      "98    0\n",
      "99    0\n",
      "Name: label, Length: 100, dtype: int64\n",
      "0     0\n",
      "1     1\n",
      "2     1\n",
      "3     1\n",
      "4     1\n",
      "     ..\n",
      "95    0\n",
      "96    0\n",
      "97    0\n",
      "98    0\n",
      "99    0\n",
      "Name: label, Length: 100, dtype: int64\n"
     ]
    }
   ],
   "source": [
    "print(valid_data['label'].head(100))\n",
    "print(y_valid.head(100))"
   ]
  },
  {
   "cell_type": "code",
   "execution_count": 19,
   "metadata": {},
   "outputs": [],
   "source": [
    "# EXTREME Gradient Boost Algorithm\n",
    "# ADV- \n",
    "# Regularization\n",
    "# Parallel Boosting\n",
    "# Handles missing values on its own\n",
    "# Builting Cross Validation\n",
    "\n",
    "model = XGBClassifier(\n",
    "    max_depth=5, # Max depth of the tree\n",
    "    n_estimators=10,\n",
    "    n_thread=3,\n",
    ")"
   ]
  },
  {
   "cell_type": "code",
   "execution_count": 20,
   "metadata": {},
   "outputs": [
    {
     "name": "stdout",
     "output_type": "stream",
     "text": [
      "[0]\tvalidation_0-error:0.11164\n",
      "[1]\tvalidation_0-error:0.10804\n",
      "[2]\tvalidation_0-error:0.10684\n",
      "[3]\tvalidation_0-error:0.10804\n",
      "[4]\tvalidation_0-error:0.10684\n",
      "[5]\tvalidation_0-error:0.10444\n",
      "[6]\tvalidation_0-error:0.10564\n",
      "[7]\tvalidation_0-error:0.10564\n",
      "[8]\tvalidation_0-error:0.10564\n",
      "[9]\tvalidation_0-error:0.10444\n"
     ]
    }
   ],
   "source": [
    "eval_set = [(x_valid, y_valid)]\n",
    "model.fit(x_train, y_train, eval_metric=\"error\", eval_set=eval_set, verbose=True)\n",
    "model=model.fit(x_train,y_train)"
   ]
  },
  {
   "cell_type": "code",
   "execution_count": 21,
   "metadata": {},
   "outputs": [
    {
     "name": "stdout",
     "output_type": "stream",
     "text": [
      "(592,)\n",
      "0\n",
      "F1 Score: 0.00%\n",
      "Accuracy: 50.00%\n"
     ]
    }
   ],
   "source": [
    "y_predict=model.predict(x_test)\n",
    "print(y_predict.shape)\n",
    "print(y_predict[0])\n",
    "f1=f1_score(y_test,y_predict)\n",
    "accuracy = accuracy_score(y_test, y_predict)\n",
    "print(\"F1 Score: %.2f%%\" % (f1* 100.0))\n",
    "print(\"Accuracy: %.2f%%\" % (accuracy * 100.0))"
   ]
  },
  {
   "cell_type": "code",
   "execution_count": 22,
   "metadata": {},
   "outputs": [
    {
     "name": "stdout",
     "output_type": "stream",
     "text": [
      "(833,)\n",
      "0\n",
      "F1 Score: 0.00%\n",
      "Accuracy: 89.56%\n"
     ]
    }
   ],
   "source": [
    "y_predict=model.predict(x_valid)\n",
    "print(y_predict.shape)\n",
    "print(y_predict[0])\n",
    "f1=f1_score(y_valid,y_predict)\n",
    "accuracy = accuracy_score(y_valid, y_predict)\n",
    "print(\"F1 Score: %.2f%%\" % (f1* 100.0))\n",
    "print(\"Accuracy: %.2f%%\" % (accuracy * 100.0))"
   ]
  },
  {
   "cell_type": "code",
   "execution_count": null,
   "metadata": {},
   "outputs": [],
   "source": []
  }
 ],
 "metadata": {
  "kernelspec": {
   "display_name": "Python 3",
   "language": "python",
   "name": "python3"
  },
  "language_info": {
   "codemirror_mode": {
    "name": "ipython",
    "version": 3
   },
   "file_extension": ".py",
   "mimetype": "text/x-python",
   "name": "python",
   "nbconvert_exporter": "python",
   "pygments_lexer": "ipython3",
   "version": "3.7.4"
  }
 },
 "nbformat": 4,
 "nbformat_minor": 2
}
