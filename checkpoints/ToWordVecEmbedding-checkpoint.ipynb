{
 "cells": [
  {
   "cell_type": "code",
   "execution_count": 5,
   "metadata": {},
   "outputs": [],
   "source": [
    "# IMPORTING THE LIBRARIES\n",
    "import pandas as pd\n",
    "import numpy as np\n",
    "\n",
    "# FOR WORD TO VECTOR MODEL\n",
    "import gensim\n",
    "\n",
    "pd.set_option(\"display.max_colwidth\", 400) "
   ]
  },
  {
   "cell_type": "code",
   "execution_count": 3,
   "metadata": {},
   "outputs": [],
   "source": [
    "# IMPORTING THE DATASETS\n",
    "train_data=pd.read_csv(\"./Data/TrainingData.csv\")\n",
    "test_data=pd.read_csv(\"./Data/SubtaskA_Trial_Test_Labeled.csv\")\n",
    "valid_data=pd.read_csv(\"./Data/SubtaskA_EvaluationData_labeled.csv\")\n",
    "combined=pd.read_csv(\"./Data/CleanData.csv\")"
   ]
  },
  {
   "cell_type": "code",
   "execution_count": 6,
   "metadata": {},
   "outputs": [
    {
     "name": "stdout",
     "output_type": "stream",
     "text": [
      "(9925, 4)\n"
     ]
    },
    {
     "data": {
      "text/html": [
       "<div>\n",
       "<style scoped>\n",
       "    .dataframe tbody tr th:only-of-type {\n",
       "        vertical-align: middle;\n",
       "    }\n",
       "\n",
       "    .dataframe tbody tr th {\n",
       "        vertical-align: top;\n",
       "    }\n",
       "\n",
       "    .dataframe thead th {\n",
       "        text-align: right;\n",
       "    }\n",
       "</style>\n",
       "<table border=\"1\" class=\"dataframe\">\n",
       "  <thead>\n",
       "    <tr style=\"text-align: right;\">\n",
       "      <th></th>\n",
       "      <th>id</th>\n",
       "      <th>sentence</th>\n",
       "      <th>label</th>\n",
       "      <th>clean</th>\n",
       "    </tr>\n",
       "  </thead>\n",
       "  <tbody>\n",
       "    <tr>\n",
       "      <th>0</th>\n",
       "      <td>663_3</td>\n",
       "      <td>\"Please enable removing language code from the Dev Center \"language history\" For example if you ever selected \"ru\" and \"ru-ru\" laguages and you published this xap to the Store then it causes Tile localization to show the en-us(default) tile localization which is bad.\"</td>\n",
       "      <td>1</td>\n",
       "      <td>pleas enabl remov languag code from center languag histori exampl ever select laguag publish thi store then caus tile local show default tile local which</td>\n",
       "    </tr>\n",
       "    <tr>\n",
       "      <th>1</th>\n",
       "      <td>663_4</td>\n",
       "      <td>\"Note: in your .csproj file, there is a SupportedCultures entry like this: &lt;SupportedCultures&gt;de-DE;ru;ru-RU &lt;/SupportedCultures&gt; When I removed the \"ru\" language code and published my new xap version, the old xap version still remains in the Store with \"Replaced and unpublished\".\"</td>\n",
       "      <td>0</td>\n",
       "      <td>note your csproj file there supportedcultur entri like thi supportedcultur supportedcultur when remov languag code publish version version still remain store with replac unpublish</td>\n",
       "    </tr>\n",
       "    <tr>\n",
       "      <th>2</th>\n",
       "      <td>664_1</td>\n",
       "      <td>\"Wich means the new version not fully replaced the old version and this causes me very serious problems: 1.\"</td>\n",
       "      <td>0</td>\n",
       "      <td>wich mean version fulli replac version thi caus veri seriou problem</td>\n",
       "    </tr>\n",
       "    <tr>\n",
       "      <th>3</th>\n",
       "      <td>664_2</td>\n",
       "      <td>\"Some of my users will still receive the old xap version of my app.\"</td>\n",
       "      <td>0</td>\n",
       "      <td>some user will still receiv version</td>\n",
       "    </tr>\n",
       "    <tr>\n",
       "      <th>4</th>\n",
       "      <td>664_3</td>\n",
       "      <td>\"The store randomly gives the old xap or the new xap version of my app.\"</td>\n",
       "      <td>0</td>\n",
       "      <td>store randomli give version</td>\n",
       "    </tr>\n",
       "  </tbody>\n",
       "</table>\n",
       "</div>"
      ],
      "text/plain": [
       "      id  \\\n",
       "0  663_3   \n",
       "1  663_4   \n",
       "2  664_1   \n",
       "3  664_2   \n",
       "4  664_3   \n",
       "\n",
       "                                                                                                                                                                                                                                                                                     sentence  \\\n",
       "0                \"Please enable removing language code from the Dev Center \"language history\" For example if you ever selected \"ru\" and \"ru-ru\" laguages and you published this xap to the Store then it causes Tile localization to show the en-us(default) tile localization which is bad.\"   \n",
       "1  \"Note: in your .csproj file, there is a SupportedCultures entry like this: <SupportedCultures>de-DE;ru;ru-RU </SupportedCultures> When I removed the \"ru\" language code and published my new xap version, the old xap version still remains in the Store with \"Replaced and unpublished\".\"   \n",
       "2                                                                                                                                                                                \"Wich means the new version not fully replaced the old version and this causes me very serious problems: 1.\"   \n",
       "3                                                                                                                                                                                                                        \"Some of my users will still receive the old xap version of my app.\"   \n",
       "4                                                                                                                                                                                                                    \"The store randomly gives the old xap or the new xap version of my app.\"   \n",
       "\n",
       "   label  \\\n",
       "0      1   \n",
       "1      0   \n",
       "2      0   \n",
       "3      0   \n",
       "4      0   \n",
       "\n",
       "                                                                                                                                                                                 clean  \n",
       "0                            pleas enabl remov languag code from center languag histori exampl ever select laguag publish thi store then caus tile local show default tile local which  \n",
       "1  note your csproj file there supportedcultur entri like thi supportedcultur supportedcultur when remov languag code publish version version still remain store with replac unpublish  \n",
       "2                                                                                                                  wich mean version fulli replac version thi caus veri seriou problem  \n",
       "3                                                                                                                                                  some user will still receiv version  \n",
       "4                                                                                                                                                          store randomli give version  "
      ]
     },
     "execution_count": 6,
     "metadata": {},
     "output_type": "execute_result"
    }
   ],
   "source": [
    "# PEEKING INTO THE DATASET\n",
    "print(combined.shape)\n",
    "combined.head()"
   ]
  },
  {
   "cell_type": "code",
   "execution_count": 7,
   "metadata": {},
   "outputs": [
    {
     "ename": "AttributeError",
     "evalue": "'float' object has no attribute 'split'",
     "output_type": "error",
     "traceback": [
      "\u001b[0;31m---------------------------------------------------------------------------\u001b[0m",
      "\u001b[0;31mAttributeError\u001b[0m                            Traceback (most recent call last)",
      "\u001b[0;32m<ipython-input-7-9520a6cd186e>\u001b[0m in \u001b[0;36m<module>\u001b[0;34m\u001b[0m\n\u001b[0;32m----> 1\u001b[0;31m \u001b[0mtokenized_sentence\u001b[0m\u001b[0;34m=\u001b[0m\u001b[0mcombined\u001b[0m\u001b[0;34m[\u001b[0m\u001b[0;34m'clean'\u001b[0m\u001b[0;34m]\u001b[0m\u001b[0;34m.\u001b[0m\u001b[0mapply\u001b[0m\u001b[0;34m(\u001b[0m\u001b[0;32mlambda\u001b[0m \u001b[0mx\u001b[0m\u001b[0;34m:\u001b[0m \u001b[0mx\u001b[0m\u001b[0;34m.\u001b[0m\u001b[0msplit\u001b[0m\u001b[0;34m(\u001b[0m\u001b[0;34m)\u001b[0m\u001b[0;34m)\u001b[0m\u001b[0;34m\u001b[0m\u001b[0;34m\u001b[0m\u001b[0m\n\u001b[0m",
      "\u001b[0;32m~/.local/lib/python3.7/site-packages/pandas/core/series.py\u001b[0m in \u001b[0;36mapply\u001b[0;34m(self, func, convert_dtype, args, **kwds)\u001b[0m\n\u001b[1;32m   4043\u001b[0m             \u001b[0;32melse\u001b[0m\u001b[0;34m:\u001b[0m\u001b[0;34m\u001b[0m\u001b[0;34m\u001b[0m\u001b[0m\n\u001b[1;32m   4044\u001b[0m                 \u001b[0mvalues\u001b[0m \u001b[0;34m=\u001b[0m \u001b[0mself\u001b[0m\u001b[0;34m.\u001b[0m\u001b[0mastype\u001b[0m\u001b[0;34m(\u001b[0m\u001b[0mobject\u001b[0m\u001b[0;34m)\u001b[0m\u001b[0;34m.\u001b[0m\u001b[0mvalues\u001b[0m\u001b[0;34m\u001b[0m\u001b[0;34m\u001b[0m\u001b[0m\n\u001b[0;32m-> 4045\u001b[0;31m                 \u001b[0mmapped\u001b[0m \u001b[0;34m=\u001b[0m \u001b[0mlib\u001b[0m\u001b[0;34m.\u001b[0m\u001b[0mmap_infer\u001b[0m\u001b[0;34m(\u001b[0m\u001b[0mvalues\u001b[0m\u001b[0;34m,\u001b[0m \u001b[0mf\u001b[0m\u001b[0;34m,\u001b[0m \u001b[0mconvert\u001b[0m\u001b[0;34m=\u001b[0m\u001b[0mconvert_dtype\u001b[0m\u001b[0;34m)\u001b[0m\u001b[0;34m\u001b[0m\u001b[0;34m\u001b[0m\u001b[0m\n\u001b[0m\u001b[1;32m   4046\u001b[0m \u001b[0;34m\u001b[0m\u001b[0m\n\u001b[1;32m   4047\u001b[0m         \u001b[0;32mif\u001b[0m \u001b[0mlen\u001b[0m\u001b[0;34m(\u001b[0m\u001b[0mmapped\u001b[0m\u001b[0;34m)\u001b[0m \u001b[0;32mand\u001b[0m \u001b[0misinstance\u001b[0m\u001b[0;34m(\u001b[0m\u001b[0mmapped\u001b[0m\u001b[0;34m[\u001b[0m\u001b[0;36m0\u001b[0m\u001b[0;34m]\u001b[0m\u001b[0;34m,\u001b[0m \u001b[0mSeries\u001b[0m\u001b[0;34m)\u001b[0m\u001b[0;34m:\u001b[0m\u001b[0;34m\u001b[0m\u001b[0;34m\u001b[0m\u001b[0m\n",
      "\u001b[0;32mpandas/_libs/lib.pyx\u001b[0m in \u001b[0;36mpandas._libs.lib.map_infer\u001b[0;34m()\u001b[0m\n",
      "\u001b[0;32m<ipython-input-7-9520a6cd186e>\u001b[0m in \u001b[0;36m<lambda>\u001b[0;34m(x)\u001b[0m\n\u001b[0;32m----> 1\u001b[0;31m \u001b[0mtokenized_sentence\u001b[0m\u001b[0;34m=\u001b[0m\u001b[0mcombined\u001b[0m\u001b[0;34m[\u001b[0m\u001b[0;34m'clean'\u001b[0m\u001b[0;34m]\u001b[0m\u001b[0;34m.\u001b[0m\u001b[0mapply\u001b[0m\u001b[0;34m(\u001b[0m\u001b[0;32mlambda\u001b[0m \u001b[0mx\u001b[0m\u001b[0;34m:\u001b[0m \u001b[0mx\u001b[0m\u001b[0;34m.\u001b[0m\u001b[0msplit\u001b[0m\u001b[0;34m(\u001b[0m\u001b[0;34m)\u001b[0m\u001b[0;34m)\u001b[0m\u001b[0;34m\u001b[0m\u001b[0;34m\u001b[0m\u001b[0m\n\u001b[0m",
      "\u001b[0;31mAttributeError\u001b[0m: 'float' object has no attribute 'split'"
     ]
    }
   ],
   "source": [
    "tokenized_sentence=combined['clean'].apply(lambda x: x.split())\n",
    "# TRYING TO SPLIT TOKENIZE THE SENTENCES, BUT BECAUSE OF SOME ERROR ....."
   ]
  },
  {
   "cell_type": "code",
   "execution_count": 23,
   "metadata": {},
   "outputs": [
    {
     "name": "stdout",
     "output_type": "stream",
     "text": [
      "9925\n",
      "nan 0 843_15\n",
      "nan 0 850_3\n",
      "nan 0 884_4\n",
      "nan 0 1273_16\n",
      "nan 0 1304_12\n",
      "nan 0 1343_2\n",
      "nan 0 1435_6\n",
      "nan 0 1459_4\n",
      "nan 0 1498_5\n",
      "nan 0 1526_1\n",
      "nan 0 1538_7\n",
      "nan 0 1538_15\n",
      "nan 0 1540_1\n",
      "nan 0 1595_3\n",
      "nan 0 1607_4\n",
      "nan 0 1634_6\n",
      "nan 0 1635_8\n",
      "nan 0 1643_1\n",
      "nan 0 1645_9\n",
      "nan 0 1666_1\n",
      "nan 0 1667_1\n",
      "nan 0 1685_1\n",
      "nan 0 1686_2\n",
      "nan 0 1713_11\n",
      "nan 0 1714_4\n",
      "nan 0 1718_12\n",
      "nan 0 1737_2\n",
      "nan 0 1746_4\n",
      "nan 0 1747_1\n",
      "nan 0 1748_3\n",
      "nan 0 1762_1\n",
      "nan 0 1763_1\n",
      "nan 0 1764_4\n",
      "nan 0 1776_1\n",
      "nan 0 0_356\n",
      "nan 0 0_364\n",
      "nan 0 0_427\n",
      "nan 0 0_432\n",
      "nan 0 0_503\n",
      "nan 0 0_630\n",
      "nan 0 0_736\n",
      "nan 0 0_738\n",
      "nan 0 0_742\n",
      "nan 0 0_754\n",
      "nan 0 0_944\n",
      "nan 0 0_956\n",
      "nan 0 0_1333\n",
      "nan 0 0_1527\n",
      "nan 0 0_1653\n",
      "nan 0 0_1676\n"
     ]
    }
   ],
   "source": [
    "# FINDING OUT THE REASON FOR THE ERROR\n",
    "invalid_ids=[]\n",
    "print(len(combined))\n",
    "for x in range(len(combined)):\n",
    "    try: \n",
    "        combined['clean'][x].split()\n",
    "    except:\n",
    "        invalid_ids.append(combined['id'][x])\n",
    "        print(combined['clean'][x],combined['label'][x],combined['id'][x])"
   ]
  },
  {
   "cell_type": "code",
   "execution_count": 25,
   "metadata": {},
   "outputs": [
    {
     "name": "stdout",
     "output_type": "stream",
     "text": [
      "invalid trains\n",
      "50\n",
      "672    \"E.g.\"\n",
      "Name: sentence, dtype: object\n",
      "672    843_15\n",
      "Name: id, dtype: object\n",
      "695    \").\"\n",
      "Name: sentence, dtype: object\n",
      "695    850_3\n",
      "Name: id, dtype: object\n",
      "826    \"=[\"\n",
      "Name: sentence, dtype: object\n",
      "826    884_4\n",
      "Name: id, dtype: object\n",
      "1124    \"By far.\"\n",
      "Name: sentence, dtype: object\n",
      "1124    1273_16\n",
      "Name: id, dtype: object\n",
      "1238    \"VPN !!!\"\n",
      "Name: sentence, dtype: object\n",
      "1238    1304_12\n",
      "Name: id, dtype: object\n",
      "1289    \"0,99$)'.\"\n",
      "Name: sentence, dtype: object\n",
      "1289    1343_2\n",
      "Name: id, dtype: object\n",
      "1429    \".\"\n",
      "Name: sentence, dtype: object\n",
      "1429    1435_6\n",
      "Name: id, dtype: object\n",
      "1476    \"20000 km or so?\"\n",
      "Name: sentence, dtype: object\n",
      "1476    1459_4\n",
      "Name: id, dtype: object\n",
      "1560    \"____________________________________________________________________________î_________________________________________________________wp___\"\n",
      "Name: sentence, dtype: object\n",
      "1560    1498_5\n",
      "Name: id, dtype: object\n",
      "1639    \"__________________WIN7________________________ _____________________________________ _____________________________________________________________\"\n",
      "Name: sentence, dtype: object\n",
      "1639    1526_1\n",
      "Name: id, dtype: object\n",
      "1653    \"ie.\"\n",
      "Name: sentence, dtype: object\n",
      "1653    1538_7\n",
      "Name: id, dtype: object\n",
      "1654    \"App Hub_____________________________________________________________________ _____________________________________\"\n",
      "Name: sentence, dtype: object\n",
      "1654    1538_15\n",
      "Name: id, dtype: object\n",
      "1655    \"_______________________________________________________________________________________________________________________________________________________________________________________________________________________________________________________________ ___________________________________________________________________________________________________________________________________________...\n",
      "Name: sentence, dtype: object\n",
      "1655    1540_1\n",
      "Name: id, dtype: object\n",
      "1722    \":(\"\n",
      "Name: sentence, dtype: object\n",
      "1722    1595_3\n",
      "Name: id, dtype: object\n",
      "1740    \"_______________________________________________________________________________________________________________________________________________________________________________________________________________________________________________________Ç________________________________________________________________________________________________________________________\"\n",
      "Name: sentence, dtype: object\n",
      "1740    1607_4\n",
      "Name: id, dtype: object\n",
      "1752    \"_______________________________________________________________________________________________________ ________________________________________________________________________________________________________________________________________________________________________________________________________________________________________________________________________ __________________________...\n",
      "Name: sentence, dtype: object\n",
      "1752    1634_6\n",
      "Name: id, dtype: object\n",
      "1753    \"_______________________________________________________________ WP7_____________________________________________________________________________________ ________________________________________________________________________________________________________________________________ _________________________________________________________________________________________________________________...\n",
      "Name: sentence, dtype: object\n",
      "1753    1635_8\n",
      "Name: id, dtype: object\n",
      "1756    \"________________________________________________________________________OS___________________________________________________ _________________________________________________________API______________________________________________________________________________________________________________________________________________________________\"\n",
      "Name: sentence, dtype: object\n",
      "1756    1643_1\n",
      "Name: id, dtype: object\n",
      "1761    \"_______________30_______________________________________æ ___________________________________________________ ______æ ___________________________________________________________________________________________________________________________________________________________________________________ _________10_____________________________________________________________________________\"\n",
      "Name: sentence, dtype: object\n",
      "1761    1645_9\n",
      "Name: id, dtype: object\n",
      "1788    \"__________________________________________________\"\n",
      "Name: sentence, dtype: object\n",
      "1788    1666_1\n",
      "Name: id, dtype: object\n",
      "1791    \"____________________________GBK____________\"\n",
      "Name: sentence, dtype: object\n",
      "1791    1667_1\n",
      "Name: id, dtype: object\n",
      "1832    \"THX.\"\n",
      "Name: sentence, dtype: object\n",
      "1832    1685_1\n",
      "Name: id, dtype: object\n",
      "1836    \"______________________________________________________________________________________î__________________________________________________\"\n",
      "Name: sentence, dtype: object\n",
      "1836    1686_2\n",
      "Name: id, dtype: object\n",
      "1938    \"_______________________________________________________________________________________________________________________________________________________________________________________________\"\n",
      "Name: sentence, dtype: object\n",
      "1938    1713_11\n",
      "Name: id, dtype: object\n",
      "1952    \"iOS_____________________________________________________________________________________________________________________________________ ____________________________________________________________________________________________________________________________________________________________________________________________________Ç____________________________________________________________...\n",
      "Name: sentence, dtype: object\n",
      "1952    1714_4\n",
      "Name: id, dtype: object\n",
      "1971    \"_____________________________æ __________________________________________________ __________________________________________________________\"\n",
      "Name: sentence, dtype: object\n",
      "1971    1718_12\n",
      "Name: id, dtype: object\n",
      "2022    \"______________________________________________________________________________________________________________________________1__________________________________________________________________ _________________________________________________________________________________________________________________________________________________________________________________________________________...\n",
      "Name: sentence, dtype: object\n",
      "2022    1737_2\n",
      "Name: id, dtype: object\n",
      "2062    \"__________________________________________________________________________________________________________________________________API____________________________________ __________________________________________________________________NG________________________________________________________________________________________________________________________________\"\n",
      "Name: sentence, dtype: object\n",
      "2062    1746_4\n",
      "Name: id, dtype: object\n",
      "2063    \"________________æ ___________________________________________________________________________________________________________________________________________________________ HTC 7 Pro______________________________________________________________________________________________________________________\"\n",
      "Name: sentence, dtype: object\n",
      "2063    1747_1\n",
      "Name: id, dtype: object\n",
      "2066    \"____________________________________________________________________________________ _______________________________________________________________________________________ ___________________________________________________________________________\"\n",
      "Name: sentence, dtype: object\n",
      "2066    1748_3\n",
      "Name: id, dtype: object\n",
      "2121    \"_________________________________ON/OFF________________ _______________________________________________________________________________________________\"\n",
      "Name: sentence, dtype: object\n",
      "2121    1762_1\n",
      "Name: id, dtype: object\n",
      "2126    \"______IME__________________________________________________________________________________________________________________________________________________________________________ ________________________________________________________________________________________________________________________\"\n",
      "Name: sentence, dtype: object\n",
      "2126    1763_1\n",
      "Name: id, dtype: object\n",
      "2131    \"______________________________________(WAV______)__________________________________________________________________________Ç______API_________________________________ ___________________________________________________________\"\n",
      "Name: sentence, dtype: object\n",
      "2131    1764_4\n",
      "Name: id, dtype: object\n",
      "2162    \"__________________________________________________________________ _________________________________________________________________________________ ____________________________________________________________________________________ _______________________________________________________________________________________________ _________________________________________________________________...\n",
      "Name: sentence, dtype: object\n",
      "2162    1776_1\n",
      "Name: id, dtype: object\n",
      "2815    \"Why?\"\n",
      "Name: sentence, dtype: object\n",
      "2815    0_356\n",
      "Name: id, dtype: object\n",
      "2822    \";)\"\"\n",
      "Name: sentence, dtype: object\n",
      "2822    0_364\n",
      "Name: id, dtype: object\n",
      "2877    \"- .\"\n",
      "Name: sentence, dtype: object\n",
      "2877    0_427\n",
      "Name: id, dtype: object\n",
      "2882    \"etc.\"\n",
      "Name: sentence, dtype: object\n",
      "2882    0_432\n",
      "Name: id, dtype: object\n",
      "2945    \".\"\"\n",
      "Name: sentence, dtype: object\n",
      "2945    0_503\n",
      "Name: id, dtype: object\n",
      "3062    \"1\"\n",
      "Name: sentence, dtype: object\n",
      "3062    0_630\n",
      "Name: id, dtype: object\n",
      "3162    \"3\"\n",
      "Name: sentence, dtype: object\n",
      "3162    0_736\n",
      "Name: id, dtype: object\n",
      "3164    \"4\"\n",
      "Name: sentence, dtype: object\n",
      "3164    0_738\n",
      "Name: id, dtype: object\n",
      "3168    \"2\"\n",
      "Name: sentence, dtype: object\n",
      "3168    0_742\n",
      "Name: id, dtype: object\n",
      "3179    \"If no, why not?\"\n",
      "Name: sentence, dtype: object\n",
      "3179    0_754\n",
      "Name: id, dtype: object\n",
      "3351    \"Hi!\"\n",
      "Name: sentence, dtype: object\n",
      "3351    0_944\n",
      "Name: id, dtype: object\n",
      "3363    \"NET.\"\n",
      "Name: sentence, dtype: object\n",
      "3363    0_956\n",
      "Name: id, dtype: object\n",
      "3431    \"GET IT OFF!\"\n",
      "Name: sentence, dtype: object\n",
      "3431    0_1333\n",
      "Name: id, dtype: object\n",
      "3624    \"How?\"\"\n",
      "Name: sentence, dtype: object\n",
      "3624    0_1527\n",
      "Name: id, dtype: object\n",
      "3749    \"Fix it if you can.\"\n",
      "Name: sentence, dtype: object\n",
      "3749    0_1653\n",
      "Name: id, dtype: object\n",
      "3772    \"So do I.\"\n",
      "Name: sentence, dtype: object\n",
      "3772    0_1676\n",
      "Name: id, dtype: object\n",
      "50\n"
     ]
    }
   ],
   "source": [
    "# GETTING THE INDEX OF THE ERRORENOUS DATA \n",
    "print('invalid trains')\n",
    "# ALl errors in the train data only!\n",
    "for x in invalid_ids:\n",
    "    print(train_data['sentence'][train_data['id']==x])\n",
    "    print(train_data['id'][train_data['id']==x])\n",
    "    \n",
    "# print('invalid valid')\n",
    "# for x in invalid_ids:    \n",
    "#     print(valid_data['sentence'][valid_data['id']==x])\n",
    "# print('invalid test')\n",
    "# for x in invalid_ids:\n",
    "#     print(test_data['sentence'][test_data['id']==x])    "
   ]
  },
  {
   "cell_type": "code",
   "execution_count": 10,
   "metadata": {},
   "outputs": [],
   "source": [
    "# CONVERTING OUT THE NAN WORDS MANUALL TO EMPTY ARRAY OF STRINGS\n",
    "def tokenize(s):\n",
    "    try:\n",
    "        return s.split()\n",
    "    except:\n",
    "        return ['']"
   ]
  },
  {
   "cell_type": "code",
   "execution_count": 15,
   "metadata": {},
   "outputs": [
    {
     "data": {
      "text/plain": [
       "0                             [pleas, enabl, remov, languag, code, from, center, languag, histori, exampl, ever, select, laguag, publish, thi, store, then, caus, tile, local, show, default, tile, local, which]\n",
       "1    [note, your, csproj, file, there, supportedcultur, entri, like, thi, supportedcultur, supportedcultur, when, remov, languag, code, publish, version, version, still, remain, store, with, replac, unpublish]\n",
       "2                                                                                                                                 [wich, mean, version, fulli, replac, version, thi, caus, veri, seriou, problem]\n",
       "3                                                                                                                                                                      [some, user, will, still, receiv, version]\n",
       "4                                                                                                                                                                                [store, randomli, give, version]\n",
       "Name: clean, dtype: object"
      ]
     },
     "execution_count": 15,
     "metadata": {},
     "output_type": "execute_result"
    }
   ],
   "source": [
    "tokenized_sentence=combined['clean'].apply(lambda x: tokenize(x))\n",
    "tokenized_sentence.head()"
   ]
  },
  {
   "cell_type": "code",
   "execution_count": 13,
   "metadata": {},
   "outputs": [],
   "source": [
    "# CONFIGURING THE MODEL\n",
    "# model_w2v = gensim.models.Word2Vec(\n",
    "#     tokenized_sentence,\n",
    "#     size=200, # Number of features\n",
    "#     window=5, # Context Window Size\n",
    "#     min_count=2, \n",
    "#     sg=1, # 1 for skip gram model\n",
    "#     hs=0,\n",
    "#     negative=10, # negative sampling\n",
    "#     workers=2, # no of cores\n",
    "#     seed=34,\n",
    "# )"
   ]
  },
  {
   "cell_type": "code",
   "execution_count": 14,
   "metadata": {},
   "outputs": [],
   "source": [
    "# SAVING AND LOADING THE MODEL AGAIN\n",
    "# path='./models/w2v.model'\n",
    "# model_w2v.save(path)\n",
    "# model_w2v=gensim.models.Word2Vec.load(path)"
   ]
  },
  {
   "cell_type": "code",
   "execution_count": 51,
   "metadata": {},
   "outputs": [
    {
     "data": {
      "text/plain": [
       "(1764322, 2080680)"
      ]
     },
     "execution_count": 51,
     "metadata": {},
     "output_type": "execute_result"
    }
   ],
   "source": [
    "# TRAINING THE WORD TO VECTOR MODEL\n",
    "# model_w2v.train(tokenized_sentence,total_examples=len(tokenized_sentence),epochs=20)"
   ]
  },
  {
   "cell_type": "code",
   "execution_count": 27,
   "metadata": {},
   "outputs": [
    {
     "name": "stdout",
     "output_type": "stream",
     "text": [
      "--2020-03-24 23:50:51--  https://s3.amazonaws.com/dl4j-distribution/GoogleNews-vectors-negative300.bin.gz\n",
      "Resolving s3.amazonaws.com (s3.amazonaws.com)... 52.216.106.254\n",
      "Connecting to s3.amazonaws.com (s3.amazonaws.com)|52.216.106.254|:443... connected.\n",
      "HTTP request sent, awaiting response... 200 OK\n",
      "Length: 1647046227 (1.5G) [application/x-gzip]\n",
      "/content: Permission denied\n",
      "/content/GoogleNews-vectors-negative300.bin.gz: No such file or directory\n",
      "\n",
      "Cannot write to ‘/content/GoogleNews-vectors-negative300.bin.gz’ (No such file or directory).\n"
     ]
    }
   ],
   "source": [
    "# USING PRETRAINED WORD TO VEC MODEL\n",
    "!wget -P /content/ -c \"https://s3.amazonaws.com/dl4j-distribution/GoogleNews-vectors-negative300.bin.gz\""
   ]
  },
  {
   "cell_type": "code",
   "execution_count": 26,
   "metadata": {},
   "outputs": [
    {
     "name": "stdout",
     "output_type": "stream",
     "text": [
      "gzip: /content/GoogleNews-vectors-negative300.bin.gz: No such file or directory\r\n"
     ]
    }
   ],
   "source": [
    "!gzip -d /content/GoogleNews-vectors-negative300.bin.gz "
   ]
  },
  {
   "cell_type": "code",
   "execution_count": 52,
   "metadata": {
    "scrolled": true
   },
   "outputs": [
    {
     "data": {
      "text/plain": [
       "[('prefetch', 0.46649178862571716),\n",
       " ('codegener', 0.4632139801979065),\n",
       " ('delici', 0.4618798494338989),\n",
       " ('hinder', 0.45964863896369934),\n",
       " ('roam', 0.45422229170799255),\n",
       " ('strategi', 0.45330846309661865),\n",
       " ('kippt', 0.45143648982048035),\n",
       " ('plea', 0.4480752944946289),\n",
       " ('seamless', 0.4461558163166046),\n",
       " ('subitem', 0.44467154145240784)]"
      ]
     },
     "execution_count": 52,
     "metadata": {},
     "output_type": "execute_result"
    }
   ],
   "source": [
    "# USING PRETRAINED WORD TO VEC MODEL\n",
    "model_w2v = gensim.models.KeyedVectors.load_word2vec_format('/content/GoogleNews-vectors-negative300.bin', binary=True)\n",
    "model_w2v.wv.most_similar(positive='allow')"
   ]
  },
  {
   "cell_type": "code",
   "execution_count": 55,
   "metadata": {},
   "outputs": [],
   "source": [
    "def word_vector(tokens,size):\n",
    "    vec= np.zeros(size).reshape((1,size))\n",
    "    count=0\n",
    "    for word in tokens:\n",
    "        try:\n",
    "            vec+=model_w2v[word].reshape((1,size))\n",
    "            count+=1\n",
    "        except KeyError:\n",
    "            continue\n",
    "            #  word not in model\n",
    "        if count!=0 :\n",
    "            vec/=count\n",
    "        return vec"
   ]
  },
  {
   "cell_type": "code",
   "execution_count": 57,
   "metadata": {},
   "outputs": [
    {
     "name": "stderr",
     "output_type": "stream",
     "text": [
      "/home/shubham/anaconda3/lib/python3.7/site-packages/ipykernel_launcher.py:1: DeprecationWarning: Call to deprecated `__getitem__` (Method will be removed in 4.0.0, use self.wv.__getitem__() instead).\n",
      "  \"\"\"Entry point for launching an IPython kernel.\n"
     ]
    },
    {
     "data": {
      "text/plain": [
       "array([ 0.39852834, -0.3019352 , -0.04184838, -0.5217606 , -0.43554097,\n",
       "        0.01323346, -0.06060507,  0.19795923, -0.15182415,  0.29971862,\n",
       "       -0.01002719, -0.09535334, -0.04157025, -0.24147841,  0.08503218,\n",
       "       -0.06625016, -0.19106579,  0.05412415, -0.49630925, -0.07242728,\n",
       "       -0.513556  ,  0.12904184,  0.05849434,  0.05218759,  0.14029944,\n",
       "       -0.00749274,  0.43337122, -0.04079275,  0.02892599,  0.04176633,\n",
       "       -0.06354469, -0.33693814, -0.22977091,  0.14898495, -0.27856737,\n",
       "        0.49041316, -0.01005162,  0.23640008,  0.14713395,  0.16613819,\n",
       "        0.06202195, -0.34347403,  0.66693085,  0.1492631 ,  0.01806517,\n",
       "        0.21835962,  0.3024623 , -0.31299767, -0.12120582,  0.1441469 ,\n",
       "        0.47212625,  0.24561939, -0.1819583 , -0.24807364,  0.25689566,\n",
       "       -0.30856287,  0.2376235 ,  0.11505207,  0.16919075, -0.27920794,\n",
       "        0.09282017, -0.52026516, -0.31089896, -0.43948647, -0.63838834,\n",
       "       -0.09123248, -0.18160275, -0.0359153 ,  0.05386313,  0.06130622,\n",
       "       -0.09320458, -0.15496816, -0.4101439 , -0.11935226, -0.06778176,\n",
       "       -0.35791406, -0.49323866, -0.14707315,  0.5156811 , -0.14203504,\n",
       "        0.04005421,  0.09047429, -0.22927743,  0.15187097,  0.10338383,\n",
       "       -0.11698215,  0.6349895 , -0.37429342, -0.39048934,  0.15886499,\n",
       "       -0.10927118, -0.01709593, -0.40968293, -0.11899021, -0.14912236,\n",
       "        0.05436477,  0.38893518, -0.44199097,  0.26488754,  0.1174183 ,\n",
       "       -0.25142083,  0.23952475,  0.07728506, -0.24148244, -0.15337926,\n",
       "        0.28608972, -0.26093918, -0.22633132, -0.0713155 ,  0.20982006,\n",
       "        0.3261979 ,  0.06496963, -0.0194529 ,  0.2023422 , -0.3634163 ,\n",
       "        0.3096669 , -0.15826602, -0.15675989,  0.39666048,  0.0170587 ,\n",
       "       -0.18590313,  0.68194145,  0.00149757,  0.49432185, -0.23525007,\n",
       "       -0.01388452, -0.14154781,  0.21238138,  0.3378415 , -0.10387731,\n",
       "        0.41105407, -0.10157232, -0.06434023,  0.32168216, -0.18066005,\n",
       "        0.00734322, -0.38333252,  0.08875743, -0.00100394,  0.32259443,\n",
       "       -0.07000577,  0.01548602, -0.01670261, -0.2586023 ,  0.07384399,\n",
       "        0.41516855,  0.18447757, -0.42889217,  0.0563363 , -0.06775193,\n",
       "        0.05051299, -0.1412557 , -0.18707341, -0.47852084,  0.22835186,\n",
       "        0.08560614,  0.5661908 , -0.36825654,  0.18589927, -0.471293  ,\n",
       "        0.11848368,  0.37845498, -0.07070322,  0.03581216,  0.49058318,\n",
       "       -0.21253264,  0.01749961,  0.44841084, -0.4449694 , -0.14754945,\n",
       "       -0.46255383,  0.07831053, -0.38832015,  0.06156397, -0.08093828,\n",
       "        0.21706066, -0.29571894, -0.31021765,  0.02666819, -0.1380859 ,\n",
       "        0.31329334, -0.08574739, -0.02809289,  0.2508543 , -0.18711607,\n",
       "        0.37926412, -0.07627413,  0.05712679,  0.11141648,  0.15875305,\n",
       "       -0.7620376 , -0.1206881 , -0.18652967, -0.17782368, -0.30326474,\n",
       "        0.23974405, -0.3385021 ,  0.11566672, -0.36085272,  0.14838909],\n",
       "      dtype=float32)"
      ]
     },
     "execution_count": 57,
     "metadata": {},
     "output_type": "execute_result"
    }
   ],
   "source": [
    "model_w2v['should']"
   ]
  },
  {
   "cell_type": "code",
   "execution_count": 60,
   "metadata": {},
   "outputs": [
    {
     "name": "stderr",
     "output_type": "stream",
     "text": [
      "/home/shubham/anaconda3/lib/python3.7/site-packages/ipykernel_launcher.py:6: DeprecationWarning: Call to deprecated `__getitem__` (Method will be removed in 4.0.0, use self.wv.__getitem__() instead).\n",
      "  \n"
     ]
    }
   ],
   "source": [
    "word_vec_arrays=np.zeros((len(tokenized_sentence),300))\n",
    "for i  in range(len(tokenized_sentence)):\n",
    "    word_vec_arrays[i,:]=word_vector(tokenized_sentence[i],300)"
   ]
  },
  {
   "cell_type": "code",
   "execution_count": 63,
   "metadata": {},
   "outputs": [
    {
     "data": {
      "text/plain": [
       "(9925, 200)"
      ]
     },
     "execution_count": 63,
     "metadata": {},
     "output_type": "execute_result"
    }
   ],
   "source": [
    "wvdf= pd.DataFrame(word_vec_arrays)\n",
    "wvdf.shape"
   ]
  },
  {
   "cell_type": "code",
   "execution_count": 65,
   "metadata": {},
   "outputs": [],
   "source": [
    "wvdf.to_csv('./Data/Combined_x_w2v.csv')"
   ]
  }
 ],
 "metadata": {
  "kernelspec": {
   "display_name": "Python 3",
   "language": "python",
   "name": "python3"
  },
  "language_info": {
   "codemirror_mode": {
    "name": "ipython",
    "version": 3
   },
   "file_extension": ".py",
   "mimetype": "text/x-python",
   "name": "python",
   "nbconvert_exporter": "python",
   "pygments_lexer": "ipython3",
   "version": "3.7.4"
  }
 },
 "nbformat": 4,
 "nbformat_minor": 2
}
