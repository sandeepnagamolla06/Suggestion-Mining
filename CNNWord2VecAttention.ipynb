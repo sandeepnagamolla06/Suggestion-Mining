{
  "nbformat": 4,
  "nbformat_minor": 0,
  "metadata": {
    "colab": {
      "name": "CNNWord2VecAttention.ipynb",
      "provenance": [],
      "collapsed_sections": []
    },
    "kernelspec": {
      "name": "python3",
      "display_name": "Python 3"
    },
    "accelerator": "GPU"
  },
  "cells": [
    {
      "cell_type": "code",
      "metadata": {
        "id": "6u8kBwt9LOKT",
        "colab_type": "code",
        "colab": {}
      },
      "source": [
        "import pandas as pd\n",
        "import numpy as np\n",
        "\n",
        "# FOR PLOTTING GRAPHS\n",
        "import matplotlib.pyplot as plt\n",
        "pd.set_option('display.max_colwidth',300)\n",
        "\n",
        "# FOR CNN MODEL\n",
        "from tensorflow.keras.models import Model\n",
        "from tensorflow.keras.layers import Input, Embedding;\n",
        "from tensorflow.keras.layers import concatenate, Conv1D, GlobalMaxPooling1D\n",
        "from tensorflow.keras.layers import Dense, Dropout\n",
        "\n",
        "# FOR ATTENTION LAYER\n",
        "from tensorflow.keras.layers import Attention, Flatten,Activation,Permute,RepeatVector,Lambda,Multiply\n",
        "from tensorflow.keras.backend import sum as Ksum\n",
        "\n",
        "# FOR EVALUATION METRICS OF THE PREDICTIONS\n",
        "from sklearn.metrics import accuracy_score,f1_score"
      ],
      "execution_count": 0,
      "outputs": []
    },
    {
      "cell_type": "code",
      "metadata": {
        "id": "akomZvUGNZX5",
        "colab_type": "code",
        "colab": {}
      },
      "source": [
        "import pickle\n",
        "variables = pickle.load(open('./drive/My Drive/tempData/variablesword2Vec126','rb'))\n",
        "\n",
        "test_sequence  = variables['test_sequence']\n",
        "valid_sequence  = variables['valid_sequence']\n",
        "train_sequence  = variables['train_sequence']\n",
        "\n",
        "y_train  = variables['y_train']\n",
        "y_test  = variables['y_test']\n",
        "y_valid  = variables['y_valid']\n",
        "\n",
        "MXSEQLEN  = variables['MXSEQLEN']\n",
        "EMBEDDING_DIM  = variables['EMBEDDING_DIM']\n",
        "train_embedding_weights  = variables['train_embedding_weights']\n",
        "train_word_index  = variables['train_word_index']"
      ],
      "execution_count": 0,
      "outputs": []
    },
    {
      "cell_type": "code",
      "metadata": {
        "id": "bEy--Gy6OJlW",
        "colab_type": "code",
        "colab": {}
      },
      "source": [
        "def CNN(embedding_weights,num_words):\n",
        "\n",
        "    embedding_layer = Embedding(\n",
        "        num_words,                  # VOCABULARY SIZE\n",
        "        EMBEDDING_DIM,              # ONE HOT ENCODING VECTOR SIZE\n",
        "        weights=[embedding_weights],# EMBEGGING WEIGHTS FROM THE GOOGLE NEW WORD VECTOR\n",
        "        input_length=MXSEQLEN,      # MAX LENGTH OF A SEQUENCE\n",
        "        trainable=False             # PARAMETERS WILL NOT BE TRAINED\n",
        "    )\n",
        "\n",
        "    sequence_input      =   Input(shape=(MXSEQLEN,), dtype='int32')\n",
        "    embedded_sequences  =   embedding_layer(sequence_input)\n",
        "\n",
        "    units=128\n",
        "\n",
        "    # CONVOLUTIONAL LAYER 1\n",
        "    conv_layer1 = Conv1D(units, 3, activation='relu')(embedded_sequences)        \n",
        "    conv_layer1 = GlobalMaxPooling1D()(conv_layer1)\n",
        "\n",
        "    # CONVOLUTIONAL LAYER 2\n",
        "    conv_layer2 = Conv1D(units, 4, activation='relu')(embedded_sequences)        \n",
        "    conv_layer2 = GlobalMaxPooling1D()(conv_layer2)\n",
        "\n",
        "    next_layer = concatenate([conv_layer1,conv_layer2])\n",
        "    # CONCATENATION CONV LAYERS\n",
        "    next_layer = Dense(units, activation='sigmoid')(next_layer)  \n",
        "\n",
        "    attention = Dense(1, activation='tanh')(next_layer)\n",
        "    attention = Flatten()(attention)\n",
        "    attention = Activation('softmax')(attention)\n",
        "    attention = RepeatVector(units)(attention)\n",
        "    attention = Permute([2, 1])(attention)\n",
        "\n",
        "    sent_representation = Multiply()([next_layer, attention])\n",
        "    sent_representation = Lambda(lambda xin: Ksum(xin, axis=-2), output_shape=(units,))(sent_representation)\n",
        "\n",
        "    next_layer = Dropout(0.6)(next_layer)                         \n",
        "    next_layer = Dense(64, activation='sigmoid')(next_layer)  \n",
        "\n",
        "    preds = Dense(1, activation='sigmoid')(next_layer)  \n",
        "\n",
        "    model = Model(sequence_input, preds)\n",
        "    model.compile(\n",
        "        loss='binary_crossentropy',\n",
        "        optimizer='adam',\n",
        "        metrics=['acc']\n",
        "    )\n",
        "    \n",
        "    model.summary()\n",
        "    return model"
      ],
      "execution_count": 0,
      "outputs": []
    },
    {
      "cell_type": "code",
      "metadata": {
        "id": "2PoyQ9B_ONdN",
        "colab_type": "code",
        "outputId": "ad00b134-f1af-47e4-b4e4-c3340b8a62dc",
        "colab": {
          "base_uri": "https://localhost:8080/",
          "height": 533
        }
      },
      "source": [
        "# len= train_word_index +1 FOR 0 THAT WILL BE PADDED FOR COMPLETING THE SEQUENCE LENGTH\n",
        "cnn_model = CNN(train_embedding_weights, len(train_word_index)+1)  "
      ],
      "execution_count": 128,
      "outputs": [
        {
          "output_type": "stream",
          "text": [
            "Model: \"model_47\"\n",
            "__________________________________________________________________________________________________\n",
            "Layer (type)                    Output Shape         Param #     Connected to                     \n",
            "==================================================================================================\n",
            "input_50 (InputLayer)           [(None, 126)]        0                                            \n",
            "__________________________________________________________________________________________________\n",
            "embedding_49 (Embedding)        (None, 126, 300)     1146000     input_50[0][0]                   \n",
            "__________________________________________________________________________________________________\n",
            "conv1d_98 (Conv1D)              (None, 124, 128)     115328      embedding_49[0][0]               \n",
            "__________________________________________________________________________________________________\n",
            "conv1d_99 (Conv1D)              (None, 123, 128)     153728      embedding_49[0][0]               \n",
            "__________________________________________________________________________________________________\n",
            "global_max_pooling1d_98 (Global (None, 128)          0           conv1d_98[0][0]                  \n",
            "__________________________________________________________________________________________________\n",
            "global_max_pooling1d_99 (Global (None, 128)          0           conv1d_99[0][0]                  \n",
            "__________________________________________________________________________________________________\n",
            "concatenate_48 (Concatenate)    (None, 256)          0           global_max_pooling1d_98[0][0]    \n",
            "                                                                 global_max_pooling1d_99[0][0]    \n",
            "__________________________________________________________________________________________________\n",
            "dense_163 (Dense)               (None, 128)          32896       concatenate_48[0][0]             \n",
            "__________________________________________________________________________________________________\n",
            "dropout_47 (Dropout)            (None, 128)          0           dense_163[0][0]                  \n",
            "__________________________________________________________________________________________________\n",
            "dense_165 (Dense)               (None, 64)           8256        dropout_47[0][0]                 \n",
            "__________________________________________________________________________________________________\n",
            "dense_166 (Dense)               (None, 1)            65          dense_165[0][0]                  \n",
            "==================================================================================================\n",
            "Total params: 1,456,273\n",
            "Trainable params: 310,273\n",
            "Non-trainable params: 1,146,000\n",
            "__________________________________________________________________________________________________\n"
          ],
          "name": "stdout"
        }
      ]
    },
    {
      "cell_type": "code",
      "metadata": {
        "id": "O89ZH9brA8lB",
        "colab_type": "code",
        "colab": {
          "base_uri": "https://localhost:8080/",
          "height": 150
        },
        "outputId": "0169461f-f47a-422d-9268-553b3c2ece0d"
      },
      "source": [
        "# CONFIGURING AND TRAINING THE MODEL\n",
        "EPOCHS = 4\n",
        "BATCH_SIZE = 30\n",
        "history = cnn_model.fit(\n",
        "    train_sequence,       # THE INPUT SEQUENCES TO THE MODEL\n",
        "    y_train,              # TARGET OUTPUT\n",
        "    epochs=EPOCHS,    \n",
        "    validation_data=(valid_sequence, y_valid), \n",
        "    shuffle=True, \n",
        "    batch_size=BATCH_SIZE\n",
        ")"
      ],
      "execution_count": 129,
      "outputs": [
        {
          "output_type": "stream",
          "text": [
            "Epoch 1/4\n",
            "284/284 [==============================] - 2s 7ms/step - loss: 0.4309 - acc: 0.8093 - val_loss: 0.2214 - val_acc: 0.9040\n",
            "Epoch 2/4\n",
            "284/284 [==============================] - 2s 6ms/step - loss: 0.2830 - acc: 0.8853 - val_loss: 0.2087 - val_acc: 0.9028\n",
            "Epoch 3/4\n",
            "284/284 [==============================] - 2s 6ms/step - loss: 0.2144 - acc: 0.9136 - val_loss: 0.2052 - val_acc: 0.9304\n",
            "Epoch 4/4\n",
            "284/284 [==============================] - 2s 6ms/step - loss: 0.1489 - acc: 0.9499 - val_loss: 0.3088 - val_acc: 0.8703\n"
          ],
          "name": "stdout"
        }
      ]
    },
    {
      "cell_type": "code",
      "metadata": {
        "id": "vG7eG1ZO7biU",
        "colab_type": "code",
        "colab": {}
      },
      "source": [
        "#####################################################################################\n",
        "########################## ANALYZING AND TWEAKING THE MODEL##########################\n",
        "#####################################################################################"
      ],
      "execution_count": 0,
      "outputs": []
    },
    {
      "cell_type": "code",
      "metadata": {
        "id": "Wukmbnoo7dk2",
        "colab_type": "code",
        "outputId": "ccf3ee4d-a62f-43c6-c7a1-2b25c00d27a2",
        "colab": {
          "base_uri": "https://localhost:8080/",
          "height": 294
        }
      },
      "source": [
        "# TRAINING VS VALIDATION LOSS GRAPH\n",
        "plt.plot(history.history['loss'])\n",
        "plt.plot(history.history['val_loss'])\n",
        "plt.title('model train vs validation loss')\n",
        "plt.ylabel('loss')\n",
        "plt.xlabel('epoch')\n",
        "plt.legend(['train', 'validation'], loc='upper right')\n",
        "plt.show()"
      ],
      "execution_count": 130,
      "outputs": [
        {
          "output_type": "display_data",
          "data": {
            "image/png": "[encoded data removed]",
            "text/plain": [
              "<Figure size 432x288 with 1 Axes>"
            ]
          },
          "metadata": {
            "tags": []
          }
        }
      ]
    },
    {
      "cell_type": "code",
      "metadata": {
        "id": "p9kqUs967nPR",
        "colab_type": "code",
        "outputId": "68edfdf7-16e6-4eac-f87a-029548412a1a",
        "colab": {
          "base_uri": "https://localhost:8080/",
          "height": 50
        }
      },
      "source": [
        "predict=cnn_model.predict(test_sequence)\n",
        "predict=[int(x+0.5) for x in predict]\n",
        "\n",
        "# EVLUATING THE ACCURACY\n",
        "accuracy = accuracy_score(y_test, predict)\n",
        "f1=f1_score(y_test,predict)\n",
        "print(\"F1 Score: %.2f%%\" % (f1* 100.0))\n",
        "print(\"Accuracy: %.2f%%\" % (accuracy * 100.0))"
      ],
      "execution_count": 131,
      "outputs": [
        {
          "output_type": "stream",
          "text": [
            "F1 Score: 82.21%\n",
            "Accuracy: 82.09%\n"
          ],
          "name": "stdout"
        }
      ]
    }
  ]
}