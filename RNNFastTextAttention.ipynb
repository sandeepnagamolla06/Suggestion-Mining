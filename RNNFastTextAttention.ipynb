{
  "nbformat": 4,
  "nbformat_minor": 0,
  "metadata": {
    "colab": {
      "name": "RNNFastTextAttention.ipynb",
      "provenance": [],
      "collapsed_sections": []
    },
    "kernelspec": {
      "name": "python3",
      "display_name": "Python 3"
    },
    "accelerator": "GPU"
  },
  "cells": [
    {
      "cell_type": "code",
      "metadata": {
        "id": "I1bRAQObXieR",
        "colab_type": "code",
        "colab": {}
      },
      "source": [
        "import pandas as pd\n",
        "import numpy as np\n",
        "\n",
        "# FOR PLOTTING GRAPHS\n",
        "import matplotlib.pyplot as plt\n",
        "pd.set_option('display.max_colwidth',300)\n",
        "\n",
        "# LIBRARIES FOR THE RNN CLASSIFIER\n",
        "from tensorflow.keras.preprocessing import sequence\n",
        "from tensorflow.keras.models import Model\n",
        "from tensorflow.keras.layers import Input, Embedding, Dense, Dropout, LSTM,Attention,Flatten,Activation,Permute,RepeatVector,Lambda,Multiply\n",
        "from tensorflow.keras.preprocessing.text import Tokenizer\n",
        "from tensorflow.keras.backend import sum as Ksum\n",
        "\n",
        "# FOR EVALUATION METRICS OF THE PREDICTIONS\n",
        "from sklearn.metrics import accuracy_score,f1_score"
      ],
      "execution_count": 0,
      "outputs": []
    },
    {
      "cell_type": "code",
      "metadata": {
        "id": "1GlB0IhqX2JM",
        "colab_type": "code",
        "colab": {}
      },
      "source": [
        "# IMPORITING THE PARAMENTERS AND SEQUENCES \n",
        "import pickle\n",
        "\n",
        "variables = pickle.load(open('/content/drive/My Drive/tempData/variablesFastText126','rb'))\n",
        "\n",
        "test_sequence  = variables['test_sequence']\n",
        "valid_sequence  = variables['valid_sequence']\n",
        "train_sequence  = variables['train_sequence']\n",
        "\n",
        "y_train  = variables['y_train']\n",
        "y_test  = variables['y_test']\n",
        "y_valid  = variables['y_valid']\n",
        "\n",
        "MXSEQLEN  = variables['MXSEQLEN']\n",
        "EMBEDDING_DIM  = variables['EMBEDDING_DIM']\n",
        "train_embedding_weights  = variables['train_embedding_weights']\n",
        "train_word_index  = variables['train_word_index']"
      ],
      "execution_count": 0,
      "outputs": []
    },
    {
      "cell_type": "code",
      "metadata": {
        "id": "5NR-hgBPZS5d",
        "colab_type": "code",
        "colab": {}
      },
      "source": [
        "#####################################################################################\n",
        "########################## BUILDING AND TRAINING THE MODEL ##########################\n",
        "#####################################################################################\n",
        "\n",
        "def RNN(embedding_weights,num_words):\n",
        "    \n",
        "    # THE INPUT LAYER\n",
        "    sequence_input      =   Input(shape=(MXSEQLEN,), dtype='int32')\n",
        "    \n",
        "    # THE EMBEDDING LAYER OF EMBEDDING_WEIGHTS     \n",
        "    embedding_layer = Embedding(\n",
        "        num_words,                  # VOCABULARY SIZE\n",
        "        EMBEDDING_DIM,              # ONE HOT ENCODING VECTOR SIZE\n",
        "        weights=[embedding_weights],# EMBEGGING WEIGHTS FROM THE GOOGLE NEW WORD VECTOR\n",
        "        input_length=MXSEQLEN,      # MAX LENGTH OF A SEQUENCE\n",
        "        trainable=False             # PARAMETERS WILL NOT BE TRAINED\n",
        "    )\n",
        "    \n",
        "    # THE EMBEDDING SEQUENCES FROM THE EMBEDDING LAYER \n",
        "    embedded_sequences  =   embedding_layer(sequence_input)\n",
        "\n",
        "    units=256\n",
        "    # ADDING ONE LSTM LAYER OF 256 NODES\n",
        "    lstm_layer = LSTM(units)(embedded_sequences)                    \n",
        "    attention = Dense(1, activation='tanh')(lstm_layer)\n",
        "    attention = Flatten()(attention)\n",
        "    attention = Activation('softmax')(attention)\n",
        "    attention = RepeatVector(units)(attention)\n",
        "    attention = Permute([2, 1])(attention)\n",
        "\n",
        "\n",
        "    sent_representation = Multiply()([lstm_layer, attention])\n",
        "    sent_representation = Lambda(lambda xin: Ksum(xin, axis=-2), output_shape=(units,))(sent_representation)\n",
        "\n",
        "\n",
        "    # DENSE NEURON LAYER\n",
        "    # FEW DROPOUTS FOR AVOIDING OVERFIT\n",
        "    next_layer = Dense(units, activation='relu')(sent_representation)        \n",
        "    next_layer = Dense(64, activation='relu')(next_layer)        \n",
        "    next_layer = Dense(64, activation='relu')(next_layer)        \n",
        "\n",
        "    # FINAL DENSE LAYER\n",
        "    preds = Dense(1, activation='sigmoid')(next_layer)  \n",
        "\n",
        "    model = Model(sequence_input, preds)\n",
        "    model.compile(\n",
        "        loss='binary_crossentropy',\n",
        "        optimizer='adam',\n",
        "        metrics=['acc']\n",
        "    )\n",
        "    \n",
        "    model.summary()\n",
        "    return model"
      ],
      "execution_count": 0,
      "outputs": []
    },
    {
      "cell_type": "code",
      "metadata": {
        "id": "Y9XvkZCUX67g",
        "colab_type": "code",
        "outputId": "12b1325a-09f6-4ac1-f294-2753e772e403",
        "colab": {
          "base_uri": "https://localhost:8080/",
          "height": 650
        }
      },
      "source": [
        "# len= train_word_index +1 FOR 0 THAT WILL BE PADDED FOR COMPLETING THE SEQUENCE LENGTH\n",
        "print(train_embedding_weights.shape)\n",
        "rnn_model = RNN(train_embedding_weights, len(train_word_index)+1)  "
      ],
      "execution_count": 66,
      "outputs": [
        {
          "output_type": "stream",
          "text": [
            "(3820, 300)\n",
            "Model: \"model_13\"\n",
            "__________________________________________________________________________________________________\n",
            "Layer (type)                    Output Shape         Param #     Connected to                     \n",
            "==================================================================================================\n",
            "input_14 (InputLayer)           [(None, 126)]        0                                            \n",
            "__________________________________________________________________________________________________\n",
            "embedding_13 (Embedding)        (None, 126, 300)     1146000     input_14[0][0]                   \n",
            "__________________________________________________________________________________________________\n",
            "lstm_13 (LSTM)                  (None, 256)          570368      embedding_13[0][0]               \n",
            "__________________________________________________________________________________________________\n",
            "dense_58 (Dense)                (None, 1)            257         lstm_13[0][0]                    \n",
            "__________________________________________________________________________________________________\n",
            "flatten_13 (Flatten)            (None, 1)            0           dense_58[0][0]                   \n",
            "__________________________________________________________________________________________________\n",
            "activation_13 (Activation)      (None, 1)            0           flatten_13[0][0]                 \n",
            "__________________________________________________________________________________________________\n",
            "repeat_vector_13 (RepeatVector) (None, 256, 1)       0           activation_13[0][0]              \n",
            "__________________________________________________________________________________________________\n",
            "permute_13 (Permute)            (None, 1, 256)       0           repeat_vector_13[0][0]           \n",
            "__________________________________________________________________________________________________\n",
            "multiply_13 (Multiply)          (None, 1, 256)       0           lstm_13[0][0]                    \n",
            "                                                                 permute_13[0][0]                 \n",
            "__________________________________________________________________________________________________\n",
            "lambda_13 (Lambda)              (None, 256)          0           multiply_13[0][0]                \n",
            "__________________________________________________________________________________________________\n",
            "dense_59 (Dense)                (None, 256)          65792       lambda_13[0][0]                  \n",
            "__________________________________________________________________________________________________\n",
            "dense_60 (Dense)                (None, 64)           16448       dense_59[0][0]                   \n",
            "__________________________________________________________________________________________________\n",
            "dense_61 (Dense)                (None, 64)           4160        dense_60[0][0]                   \n",
            "__________________________________________________________________________________________________\n",
            "dense_62 (Dense)                (None, 1)            65          dense_61[0][0]                   \n",
            "==================================================================================================\n",
            "Total params: 1,803,090\n",
            "Trainable params: 657,090\n",
            "Non-trainable params: 1,146,000\n",
            "__________________________________________________________________________________________________\n"
          ],
          "name": "stdout"
        }
      ]
    },
    {
      "cell_type": "code",
      "metadata": {
        "id": "SlWw-bWwX8SQ",
        "colab_type": "code",
        "outputId": "56d7ded1-fb26-4448-f5e9-13cb2d74611c",
        "colab": {
          "base_uri": "https://localhost:8080/",
          "height": 350
        }
      },
      "source": [
        "# CONFIGURING AND TRAINING THE MODEL\n",
        "EPOCHS = 10\n",
        "BATCH_SIZE = 40\n",
        "\n",
        "history = rnn_model.fit(\n",
        "    train_sequence,       # THE INPUT SEQUENCES TO THE MODEL\n",
        "    y_train,              # TARGET OUTPUT\n",
        "    epochs=EPOCHS,    \n",
        "    validation_data=(valid_sequence, y_valid), \n",
        "    shuffle=True, \n",
        "    batch_size=BATCH_SIZE\n",
        ")"
      ],
      "execution_count": 67,
      "outputs": [
        {
          "output_type": "stream",
          "text": [
            "Epoch 1/10\n",
            "213/213 [==============================] - 4s 19ms/step - loss: 0.4477 - acc: 0.8022 - val_loss: 0.2117 - val_acc: 0.9160\n",
            "Epoch 2/10\n",
            "213/213 [==============================] - 4s 17ms/step - loss: 0.3442 - acc: 0.8561 - val_loss: 0.2150 - val_acc: 0.9256\n",
            "Epoch 3/10\n",
            "213/213 [==============================] - 4s 17ms/step - loss: 0.3125 - acc: 0.8662 - val_loss: 0.2266 - val_acc: 0.9136\n",
            "Epoch 4/10\n",
            "213/213 [==============================] - 4s 17ms/step - loss: 0.3038 - acc: 0.8636 - val_loss: 0.2071 - val_acc: 0.9244\n",
            "Epoch 5/10\n",
            "213/213 [==============================] - 4s 17ms/step - loss: 0.2786 - acc: 0.8806 - val_loss: 0.2095 - val_acc: 0.9100\n",
            "Epoch 6/10\n",
            "213/213 [==============================] - 4s 17ms/step - loss: 0.2533 - acc: 0.8899 - val_loss: 0.2416 - val_acc: 0.8920\n",
            "Epoch 7/10\n",
            "213/213 [==============================] - 4s 17ms/step - loss: 0.2322 - acc: 0.8984 - val_loss: 0.2562 - val_acc: 0.8836\n",
            "Epoch 8/10\n",
            "213/213 [==============================] - 4s 17ms/step - loss: 0.2097 - acc: 0.9125 - val_loss: 0.2203 - val_acc: 0.9136\n",
            "Epoch 9/10\n",
            "213/213 [==============================] - 4s 17ms/step - loss: 0.1923 - acc: 0.9189 - val_loss: 0.2195 - val_acc: 0.9136\n",
            "Epoch 10/10\n",
            "213/213 [==============================] - 4s 17ms/step - loss: 0.1736 - acc: 0.9251 - val_loss: 0.2606 - val_acc: 0.8968\n"
          ],
          "name": "stdout"
        }
      ]
    },
    {
      "cell_type": "code",
      "metadata": {
        "id": "HYxXy90gX9wx",
        "colab_type": "code",
        "outputId": "71898d8b-c53e-41c8-c3f5-825f98d7ce2b",
        "colab": {
          "base_uri": "https://localhost:8080/",
          "height": 294
        }
      },
      "source": [
        "# TRAINING VS VALIDATION LOSS GRAPH\n",
        "plt.plot(history.history['loss'])\n",
        "plt.plot(history.history['val_loss'])\n",
        "plt.title('model train vs validation loss')\n",
        "plt.ylabel('loss')\n",
        "plt.xlabel('epoch')\n",
        "plt.legend(['train', 'validation'], loc='upper right')\n",
        "plt.show()"
      ],
      "execution_count": 70,
      "outputs": [
        {
          "output_type": "display_data",
          "data": {
            "image/png": "[encoded data removed]",
            "text/plain": [
              "<Figure size 432x288 with 1 Axes>"
            ]
          },
          "metadata": {
            "tags": []
          }
        }
      ]
    },
    {
      "cell_type": "code",
      "metadata": {
        "id": "lGqMGd9mYFL9",
        "colab_type": "code",
        "outputId": "04f45665-f110-4a09-da7f-bd2f9b952482",
        "colab": {
          "base_uri": "https://localhost:8080/",
          "height": 50
        }
      },
      "source": [
        "predict=rnn_model.predict(test_sequence)\n",
        "predict=[int(x+0.5) for x in predict]\n",
        "\n",
        "# EVLUATING THE ACCURACY\n",
        "accuracy = accuracy_score(y_test, predict)\n",
        "f1=f1_score(y_test,predict)\n",
        "print(\"F1 Score: %.2f%%\" % (f1* 100.0))\n",
        "print(\"Accuracy: %.2f%%\" % (accuracy * 100.0))"
      ],
      "execution_count": 71,
      "outputs": [
        {
          "output_type": "stream",
          "text": [
            "F1 Score: 75.84%\n",
            "Accuracy: 76.86%\n"
          ],
          "name": "stdout"
        }
      ]
    }
  ]
}