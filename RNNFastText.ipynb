{
  "nbformat": 4,
  "nbformat_minor": 0,
  "metadata": {
    "colab": {
      "name": "RNNFastText.ipynb",
      "provenance": [],
      "collapsed_sections": []
    },
    "kernelspec": {
      "name": "python3",
      "display_name": "Python 3"
    },
    "accelerator": "GPU"
  },
  "cells": [
    {
      "cell_type": "code",
      "metadata": {
        "id": "7jypu4q4oEgd",
        "colab_type": "code",
        "colab": {}
      },
      "source": [
        "# FOR PLOTTING GRAPHS\n",
        "import matplotlib.pyplot as plt\n",
        "\n",
        "# LIBRARIES FOR THE RNN CLASSIFIER\n",
        "from tensorflow.keras.preprocessing import sequence\n",
        "from tensorflow.keras.models import Model\n",
        "from tensorflow.keras.layers import Input, Embedding, Dense, Dropout, LSTM\n",
        "from tensorflow.keras.preprocessing.text import Tokenizer\n",
        "\n",
        "# FOR EVALUATION METRICS OF THE PREDICTIONS\n",
        "from sklearn.metrics import accuracy_score,f1_score"
      ],
      "execution_count": 0,
      "outputs": []
    },
    {
      "cell_type": "code",
      "metadata": {
        "id": "nCwZFS9SojFA",
        "colab_type": "code",
        "colab": {}
      },
      "source": [
        "# IMPORITING THE PARAMENTERS AND SEQUENCES \n",
        "import pickle\n",
        "\n",
        "variables = pickle.load(open('/content/drive/My Drive/tempData/variablesFastText126','rb'))\n",
        "\n",
        "test_sequence  = variables['test_sequence']\n",
        "valid_sequence  = variables['valid_sequence']\n",
        "train_sequence  = variables['train_sequence']\n",
        "\n",
        "y_train  = variables['y_train']\n",
        "y_test  = variables['y_test']\n",
        "y_valid  = variables['y_valid']\n",
        "\n",
        "MXSEQLEN  = variables['MXSEQLEN']\n",
        "EMBEDDING_DIM  = variables['EMBEDDING_DIM']\n",
        "train_embedding_weights  = variables['train_embedding_weights']\n",
        "train_word_index  = variables['train_word_index']"
      ],
      "execution_count": 0,
      "outputs": []
    },
    {
      "cell_type": "code",
      "metadata": {
        "id": "-Y1TMDOLou-U",
        "colab_type": "code",
        "colab": {}
      },
      "source": [
        "#####################################################################################\n",
        "########################## BUILDING AND TRAINING THE MODEL ##########################\n",
        "#####################################################################################\n",
        "\n",
        "def RNN(embedding_weights,num_words):\n",
        "    \n",
        "    # THE INPUT LAYER\n",
        "    sequence_input      =   Input(shape=(MXSEQLEN,), dtype='int32')\n",
        "    \n",
        "    # THE EMBEDDING LAYER OF EMBEDDING_WEIGHTS     \n",
        "    embedding_layer = Embedding(\n",
        "        num_words,                  # VOCABULARY SIZE\n",
        "        EMBEDDING_DIM,              # ONE HOT ENCODING VECTOR SIZE\n",
        "        weights=[embedding_weights],# EMBEGGING WEIGHTS FROM THE GOOGLE NEW WORD VECTOR\n",
        "        input_length=MXSEQLEN,      # MAX LENGTH OF A SEQUENCE\n",
        "        trainable=False             # PARAMETERS WILL NOT BE TRAINED\n",
        "    )\n",
        "    \n",
        "    # THE EMBEDDING SEQUENCES FROM THE EMBEDDING LAYER \n",
        "    embedded_sequences  =   embedding_layer(sequence_input)\n",
        "\n",
        "    # ADDING ONE LSTM LAYER OF 256 NODES\n",
        "    lstm_layer = LSTM(256)(embedded_sequences)                    \n",
        "    \n",
        "    # DENSE NEURON LAYER\n",
        "    next_layer = Dense(256, activation='relu')(lstm_layer)        \n",
        "    \n",
        "    # FEW DROPOUTS FOR AVOIDING OVERFIT\n",
        "    next_layer = Dropout(0.3)(next_layer)                         \n",
        "\n",
        "    next_layer = Dense(64, activation='relu')(next_layer)        \n",
        "\n",
        "    # FINAL DENSE LAYER\n",
        "    preds = Dense(1, activation='sigmoid')(next_layer)  \n",
        "\n",
        "    model = Model(sequence_input, preds)\n",
        "    model.compile(\n",
        "        loss='binary_crossentropy',\n",
        "        optimizer='adam',\n",
        "        metrics=['acc']\n",
        "    )\n",
        "    \n",
        "    model.summary()\n",
        "    return model"
      ],
      "execution_count": 0,
      "outputs": []
    },
    {
      "cell_type": "code",
      "metadata": {
        "id": "VlE_wLxso1Kr",
        "colab_type": "code",
        "outputId": "dd4b2400-6eb2-4be4-c117-03c5af884e30",
        "colab": {
          "base_uri": "https://localhost:8080/",
          "height": 383
        }
      },
      "source": [
        "# len= train_word_index +1 FOR 0 THAT WILL BE PADDED FOR COMPLETING THE SEQUENCE LENGTH\n",
        "rnn_model = RNN(train_embedding_weights, len(train_word_index)+1)  "
      ],
      "execution_count": 57,
      "outputs": [
        {
          "output_type": "stream",
          "text": [
            "Model: \"model_8\"\n",
            "_________________________________________________________________\n",
            "Layer (type)                 Output Shape              Param #   \n",
            "=================================================================\n",
            "input_9 (InputLayer)         [(None, 126)]             0         \n",
            "_________________________________________________________________\n",
            "embedding_8 (Embedding)      (None, 126, 300)          1146000   \n",
            "_________________________________________________________________\n",
            "lstm_8 (LSTM)                (None, 256)               570368    \n",
            "_________________________________________________________________\n",
            "dense_24 (Dense)             (None, 256)               65792     \n",
            "_________________________________________________________________\n",
            "dropout_7 (Dropout)          (None, 256)               0         \n",
            "_________________________________________________________________\n",
            "dense_25 (Dense)             (None, 64)                16448     \n",
            "_________________________________________________________________\n",
            "dense_26 (Dense)             (None, 1)                 65        \n",
            "=================================================================\n",
            "Total params: 1,798,673\n",
            "Trainable params: 652,673\n",
            "Non-trainable params: 1,146,000\n",
            "_________________________________________________________________\n"
          ],
          "name": "stdout"
        }
      ]
    },
    {
      "cell_type": "code",
      "metadata": {
        "id": "FXRdAoppo2xU",
        "colab_type": "code",
        "outputId": "2420b662-b71c-4033-bf9d-e0817c7915ca",
        "colab": {
          "base_uri": "https://localhost:8080/",
          "height": 350
        }
      },
      "source": [
        "# CONFIGURING AND TRAINING THE MODEL\n",
        "EPOCHS = 10\n",
        "BATCH_SIZE = 30\n",
        "\n",
        "history = rnn_model.fit(\n",
        "    train_sequence,       # THE INPUT SEQUENCES TO THE MODEL\n",
        "    y_train,              # TARGET OUTPUT\n",
        "    epochs=EPOCHS,    \n",
        "    validation_data=(valid_sequence, y_valid), \n",
        "    shuffle=True, \n",
        "    batch_size=BATCH_SIZE\n",
        ")"
      ],
      "execution_count": 58,
      "outputs": [
        {
          "output_type": "stream",
          "text": [
            "Epoch 1/10\n",
            "284/284 [==============================] - 5s 17ms/step - loss: 0.4458 - acc: 0.7988 - val_loss: 0.2147 - val_acc: 0.9232\n",
            "Epoch 2/10\n",
            "284/284 [==============================] - 5s 16ms/step - loss: 0.3412 - acc: 0.8572 - val_loss: 0.2114 - val_acc: 0.9052\n",
            "Epoch 3/10\n",
            "284/284 [==============================] - 5s 17ms/step - loss: 0.3104 - acc: 0.8701 - val_loss: 0.2175 - val_acc: 0.9052\n",
            "Epoch 4/10\n",
            "284/284 [==============================] - 4s 16ms/step - loss: 0.2840 - acc: 0.8808 - val_loss: 0.1897 - val_acc: 0.9196\n",
            "Epoch 5/10\n",
            "284/284 [==============================] - 5s 16ms/step - loss: 0.2721 - acc: 0.8847 - val_loss: 0.2265 - val_acc: 0.8968\n",
            "Epoch 6/10\n",
            "284/284 [==============================] - 4s 16ms/step - loss: 0.2424 - acc: 0.8986 - val_loss: 0.2141 - val_acc: 0.9112\n",
            "Epoch 7/10\n",
            "284/284 [==============================] - 4s 16ms/step - loss: 0.2185 - acc: 0.9091 - val_loss: 0.2302 - val_acc: 0.9088\n",
            "Epoch 8/10\n",
            "284/284 [==============================] - 4s 16ms/step - loss: 0.2007 - acc: 0.9162 - val_loss: 0.2135 - val_acc: 0.9088\n",
            "Epoch 9/10\n",
            "284/284 [==============================] - 5s 16ms/step - loss: 0.1926 - acc: 0.9181 - val_loss: 0.2242 - val_acc: 0.9136\n",
            "Epoch 10/10\n",
            "284/284 [==============================] - 4s 16ms/step - loss: 0.1698 - acc: 0.9268 - val_loss: 0.2659 - val_acc: 0.8920\n"
          ],
          "name": "stdout"
        }
      ]
    },
    {
      "cell_type": "code",
      "metadata": {
        "id": "c3qOox2Fo62G",
        "colab_type": "code",
        "colab": {}
      },
      "source": [
        "#####################################################################################\n",
        "########################## ANALYZING AND TWEAKING THE MODEL##########################\n",
        "#####################################################################################"
      ],
      "execution_count": 0,
      "outputs": []
    },
    {
      "cell_type": "code",
      "metadata": {
        "id": "oHAc593zo8A6",
        "colab_type": "code",
        "outputId": "01917c1e-26a7-4c44-b464-dead83c7b185",
        "colab": {
          "base_uri": "https://localhost:8080/",
          "height": 294
        }
      },
      "source": [
        "# TRAINING VS VALIDATION LOSS GRAPH\n",
        "plt.plot(history.history['loss'])\n",
        "plt.plot(history.history['val_loss'])\n",
        "plt.title('model train vs validation loss')\n",
        "plt.ylabel('loss')\n",
        "plt.xlabel('epoch')\n",
        "plt.legend(['train', 'validation'], loc='upper right')\n",
        "plt.show()"
      ],
      "execution_count": 59,
      "outputs": [
        {
          "output_type": "display_data",
          "data": {
            "image/png": "[encoded data removed]",
            "text/plain": [
              "<Figure size 432x288 with 1 Axes>"
            ]
          },
          "metadata": {
            "tags": []
          }
        }
      ]
    },
    {
      "cell_type": "code",
      "metadata": {
        "id": "igfRlxylpEbm",
        "colab_type": "code",
        "outputId": "a34f81ce-c7b8-42cd-8701-40aa52b53d60",
        "colab": {
          "base_uri": "https://localhost:8080/",
          "height": 50
        }
      },
      "source": [
        "predict=rnn_model.predict(test_sequence)\n",
        "predict=[int(x+0.5) for x in predict]\n",
        "\n",
        "# EVLUATING THE ACCURACY\n",
        "accuracy = accuracy_score(y_test, predict)\n",
        "f1=f1_score(y_test,predict)\n",
        "print(\"F1 Score: %.2f%%\" % (f1* 100.0))\n",
        "print(\"Accuracy: %.2f%%\" % (accuracy * 100.0))"
      ],
      "execution_count": 60,
      "outputs": [
        {
          "output_type": "stream",
          "text": [
            "F1 Score: 77.76%\n",
            "Accuracy: 77.87%\n"
          ],
          "name": "stdout"
        }
      ]
    }
  ]
}